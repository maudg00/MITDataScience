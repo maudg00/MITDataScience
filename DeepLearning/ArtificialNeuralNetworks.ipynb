{
 "cells": [
  {
   "cell_type": "markdown",
   "metadata": {
    "id": "Q91KqmCRu64D"
   },
   "source": [
    "# **Project - Artificial Neural Networks: Street View Housing Number Digit Recognition**\n",
    "\n",
    "# Marks: 30\n",
    "\n",
    "Welcome to the project on classification using Artificial Neural Networks. We will work with the Street View Housing Numbers (SVHN) image dataset for this project.\n",
    "\n",
    "--------------\n",
    "### **Context:** \n",
    "--------------\n",
    "\n",
    "One of the most interesting tasks in deep learning is to recognize objects in natural scenes. The ability to process visual information using machine learning algorithms can be very useful as demonstrated in various applications.\n",
    "\n",
    "The SVHN dataset contains over 600,000 labeled digits cropped from street level photos. It is one of the most popular image recognition datasets. It has been used in neural networks created by Google to improve map quality by automatically transcribing the address numbers from a patch of pixels. The transcribed number with a known street address helps pinpoint the location of the building it represents. \n",
    "\n",
    "----------------\n",
    "### **Objective:**\n",
    "----------------\n",
    "\n",
    "Build a feed forward neural network model that can identify the digits in the images. \n",
    "\n",
    "-------------\n",
    "### **Dataset**\n",
    "-------------\n",
    "Here, we will use a subset of the original data to save some computation time. The dataset is provided as a .h5 file. The basic preprocessing steps have been done."
   ]
  },
  {
   "cell_type": "markdown",
   "metadata": {
    "id": "8z2Z7-OAs8QG"
   },
   "source": [
    "## **Mount the drive**\n",
    "Let us start by mounting the drive and importing the necessary libraries."
   ]
  },
  {
   "cell_type": "code",
   "execution_count": 1,
   "metadata": {
    "colab": {
     "base_uri": "https://localhost:8080/"
    },
    "id": "03lDyQUuef7z",
    "outputId": "9dfa2b6b-9286-42c7-fae4-c1de40cf9541"
   },
   "outputs": [
    {
     "name": "stdout",
     "output_type": "stream",
     "text": [
      "Drive already mounted at /content/drive; to attempt to forcibly remount, call drive.mount(\"/content/drive\", force_remount=True).\n"
     ]
    }
   ],
   "source": [
    "from google.colab import drive\n",
    "drive.mount('/content/drive')"
   ]
  },
  {
   "cell_type": "markdown",
   "metadata": {
    "id": "C8U3DUa3eNsT"
   },
   "source": [
    "## **Importing libraries**"
   ]
  },
  {
   "cell_type": "code",
   "execution_count": 2,
   "metadata": {
    "colab": {
     "base_uri": "https://localhost:8080/"
    },
    "id": "-dVzeuF3eQx1",
    "outputId": "90556fa0-eefb-4a8d-8476-a6e7ccdff985"
   },
   "outputs": [
    {
     "name": "stdout",
     "output_type": "stream",
     "text": [
      "Collecting tensorflow==2.5.0\n",
      "  Downloading tensorflow-2.5.0-cp37-cp37m-manylinux2010_x86_64.whl (454.3 MB)\n",
      "\u001b[K     |████████████████████████████████| 454.3 MB 18 kB/s \n",
      "\u001b[?25hRequirement already satisfied: absl-py~=0.10 in /usr/local/lib/python3.7/dist-packages (from tensorflow==2.5.0) (0.12.0)\n",
      "Requirement already satisfied: google-pasta~=0.2 in /usr/local/lib/python3.7/dist-packages (from tensorflow==2.5.0) (0.2.0)\n",
      "Requirement already satisfied: termcolor~=1.1.0 in /usr/local/lib/python3.7/dist-packages (from tensorflow==2.5.0) (1.1.0)\n",
      "Requirement already satisfied: astunparse~=1.6.3 in /usr/local/lib/python3.7/dist-packages (from tensorflow==2.5.0) (1.6.3)\n",
      "Collecting grpcio~=1.34.0\n",
      "  Downloading grpcio-1.34.1-cp37-cp37m-manylinux2014_x86_64.whl (4.0 MB)\n",
      "\u001b[K     |████████████████████████████████| 4.0 MB 30.4 MB/s \n",
      "\u001b[?25hRequirement already satisfied: protobuf>=3.9.2 in /usr/local/lib/python3.7/dist-packages (from tensorflow==2.5.0) (3.17.3)\n",
      "Requirement already satisfied: keras-preprocessing~=1.1.2 in /usr/local/lib/python3.7/dist-packages (from tensorflow==2.5.0) (1.1.2)\n",
      "Collecting tensorflow-estimator<2.6.0,>=2.5.0rc0\n",
      "  Downloading tensorflow_estimator-2.5.0-py2.py3-none-any.whl (462 kB)\n",
      "\u001b[K     |████████████████████████████████| 462 kB 47.1 MB/s \n",
      "\u001b[?25hCollecting typing-extensions~=3.7.4\n",
      "  Downloading typing_extensions-3.7.4.3-py3-none-any.whl (22 kB)\n",
      "Requirement already satisfied: numpy~=1.19.2 in /usr/local/lib/python3.7/dist-packages (from tensorflow==2.5.0) (1.19.5)\n",
      "Collecting keras-nightly~=2.5.0.dev\n",
      "  Downloading keras_nightly-2.5.0.dev2021032900-py2.py3-none-any.whl (1.2 MB)\n",
      "\u001b[K     |████████████████████████████████| 1.2 MB 34.6 MB/s \n",
      "\u001b[?25hRequirement already satisfied: gast==0.4.0 in /usr/local/lib/python3.7/dist-packages (from tensorflow==2.5.0) (0.4.0)\n",
      "Requirement already satisfied: wheel~=0.35 in /usr/local/lib/python3.7/dist-packages (from tensorflow==2.5.0) (0.37.0)\n",
      "Collecting wrapt~=1.12.1\n",
      "  Downloading wrapt-1.12.1.tar.gz (27 kB)\n",
      "Requirement already satisfied: h5py~=3.1.0 in /usr/local/lib/python3.7/dist-packages (from tensorflow==2.5.0) (3.1.0)\n",
      "Requirement already satisfied: opt-einsum~=3.3.0 in /usr/local/lib/python3.7/dist-packages (from tensorflow==2.5.0) (3.3.0)\n",
      "Requirement already satisfied: six~=1.15.0 in /usr/local/lib/python3.7/dist-packages (from tensorflow==2.5.0) (1.15.0)\n",
      "Requirement already satisfied: tensorboard~=2.5 in /usr/local/lib/python3.7/dist-packages (from tensorflow==2.5.0) (2.7.0)\n",
      "Collecting flatbuffers~=1.12.0\n",
      "  Downloading flatbuffers-1.12-py2.py3-none-any.whl (15 kB)\n",
      "Requirement already satisfied: cached-property in /usr/local/lib/python3.7/dist-packages (from h5py~=3.1.0->tensorflow==2.5.0) (1.5.2)\n",
      "Requirement already satisfied: google-auth-oauthlib<0.5,>=0.4.1 in /usr/local/lib/python3.7/dist-packages (from tensorboard~=2.5->tensorflow==2.5.0) (0.4.6)\n",
      "Requirement already satisfied: markdown>=2.6.8 in /usr/local/lib/python3.7/dist-packages (from tensorboard~=2.5->tensorflow==2.5.0) (3.3.6)\n",
      "Requirement already satisfied: tensorboard-plugin-wit>=1.6.0 in /usr/local/lib/python3.7/dist-packages (from tensorboard~=2.5->tensorflow==2.5.0) (1.8.0)\n",
      "Requirement already satisfied: setuptools>=41.0.0 in /usr/local/lib/python3.7/dist-packages (from tensorboard~=2.5->tensorflow==2.5.0) (57.4.0)\n",
      "Requirement already satisfied: werkzeug>=0.11.15 in /usr/local/lib/python3.7/dist-packages (from tensorboard~=2.5->tensorflow==2.5.0) (1.0.1)\n",
      "Requirement already satisfied: requests<3,>=2.21.0 in /usr/local/lib/python3.7/dist-packages (from tensorboard~=2.5->tensorflow==2.5.0) (2.23.0)\n",
      "Requirement already satisfied: google-auth<3,>=1.6.3 in /usr/local/lib/python3.7/dist-packages (from tensorboard~=2.5->tensorflow==2.5.0) (1.35.0)\n",
      "Requirement already satisfied: tensorboard-data-server<0.7.0,>=0.6.0 in /usr/local/lib/python3.7/dist-packages (from tensorboard~=2.5->tensorflow==2.5.0) (0.6.1)\n",
      "Requirement already satisfied: rsa<5,>=3.1.4 in /usr/local/lib/python3.7/dist-packages (from google-auth<3,>=1.6.3->tensorboard~=2.5->tensorflow==2.5.0) (4.8)\n",
      "Requirement already satisfied: cachetools<5.0,>=2.0.0 in /usr/local/lib/python3.7/dist-packages (from google-auth<3,>=1.6.3->tensorboard~=2.5->tensorflow==2.5.0) (4.2.4)\n",
      "Requirement already satisfied: pyasn1-modules>=0.2.1 in /usr/local/lib/python3.7/dist-packages (from google-auth<3,>=1.6.3->tensorboard~=2.5->tensorflow==2.5.0) (0.2.8)\n",
      "Requirement already satisfied: requests-oauthlib>=0.7.0 in /usr/local/lib/python3.7/dist-packages (from google-auth-oauthlib<0.5,>=0.4.1->tensorboard~=2.5->tensorflow==2.5.0) (1.3.0)\n",
      "Requirement already satisfied: importlib-metadata>=4.4 in /usr/local/lib/python3.7/dist-packages (from markdown>=2.6.8->tensorboard~=2.5->tensorflow==2.5.0) (4.8.2)\n",
      "Requirement already satisfied: zipp>=0.5 in /usr/local/lib/python3.7/dist-packages (from importlib-metadata>=4.4->markdown>=2.6.8->tensorboard~=2.5->tensorflow==2.5.0) (3.6.0)\n",
      "Requirement already satisfied: pyasn1<0.5.0,>=0.4.6 in /usr/local/lib/python3.7/dist-packages (from pyasn1-modules>=0.2.1->google-auth<3,>=1.6.3->tensorboard~=2.5->tensorflow==2.5.0) (0.4.8)\n",
      "Requirement already satisfied: chardet<4,>=3.0.2 in /usr/local/lib/python3.7/dist-packages (from requests<3,>=2.21.0->tensorboard~=2.5->tensorflow==2.5.0) (3.0.4)\n",
      "Requirement already satisfied: idna<3,>=2.5 in /usr/local/lib/python3.7/dist-packages (from requests<3,>=2.21.0->tensorboard~=2.5->tensorflow==2.5.0) (2.10)\n",
      "Requirement already satisfied: certifi>=2017.4.17 in /usr/local/lib/python3.7/dist-packages (from requests<3,>=2.21.0->tensorboard~=2.5->tensorflow==2.5.0) (2021.10.8)\n",
      "Requirement already satisfied: urllib3!=1.25.0,!=1.25.1,<1.26,>=1.21.1 in /usr/local/lib/python3.7/dist-packages (from requests<3,>=2.21.0->tensorboard~=2.5->tensorflow==2.5.0) (1.24.3)\n",
      "Requirement already satisfied: oauthlib>=3.0.0 in /usr/local/lib/python3.7/dist-packages (from requests-oauthlib>=0.7.0->google-auth-oauthlib<0.5,>=0.4.1->tensorboard~=2.5->tensorflow==2.5.0) (3.1.1)\n",
      "Building wheels for collected packages: wrapt\n",
      "  Building wheel for wrapt (setup.py) ... \u001b[?25l\u001b[?25hdone\n",
      "  Created wheel for wrapt: filename=wrapt-1.12.1-cp37-cp37m-linux_x86_64.whl size=68723 sha256=d004189ff7c20e54fbe843666864fd717f3d6a74541e23409e9728fefdd8abdc\n",
      "  Stored in directory: /root/.cache/pip/wheels/62/76/4c/aa25851149f3f6d9785f6c869387ad82b3fd37582fa8147ac6\n",
      "Successfully built wrapt\n",
      "Installing collected packages: typing-extensions, grpcio, wrapt, tensorflow-estimator, keras-nightly, flatbuffers, tensorflow\n",
      "  Attempting uninstall: typing-extensions\n",
      "    Found existing installation: typing-extensions 3.10.0.2\n",
      "    Uninstalling typing-extensions-3.10.0.2:\n",
      "      Successfully uninstalled typing-extensions-3.10.0.2\n",
      "  Attempting uninstall: grpcio\n",
      "    Found existing installation: grpcio 1.42.0\n",
      "    Uninstalling grpcio-1.42.0:\n",
      "      Successfully uninstalled grpcio-1.42.0\n",
      "  Attempting uninstall: wrapt\n",
      "    Found existing installation: wrapt 1.13.3\n",
      "    Uninstalling wrapt-1.13.3:\n",
      "      Successfully uninstalled wrapt-1.13.3\n",
      "  Attempting uninstall: tensorflow-estimator\n",
      "    Found existing installation: tensorflow-estimator 2.7.0\n",
      "    Uninstalling tensorflow-estimator-2.7.0:\n",
      "      Successfully uninstalled tensorflow-estimator-2.7.0\n",
      "  Attempting uninstall: flatbuffers\n",
      "    Found existing installation: flatbuffers 2.0\n",
      "    Uninstalling flatbuffers-2.0:\n",
      "      Successfully uninstalled flatbuffers-2.0\n",
      "  Attempting uninstall: tensorflow\n",
      "    Found existing installation: tensorflow 2.7.0\n",
      "    Uninstalling tensorflow-2.7.0:\n",
      "      Successfully uninstalled tensorflow-2.7.0\n",
      "Successfully installed flatbuffers-1.12 grpcio-1.34.1 keras-nightly-2.5.0.dev2021032900 tensorflow-2.5.0 tensorflow-estimator-2.5.0 typing-extensions-3.7.4.3 wrapt-1.12.1\n"
     ]
    }
   ],
   "source": [
    "import numpy as np\n",
    "import pandas as pd\n",
    "import matplotlib.pyplot as plt\n",
    "import seaborn as sns\n",
    "!pip install tensorflow==2.5.0\n",
    "from sklearn.model_selection import train_test_split\n",
    "from sklearn.preprocessing import MinMaxScaler\n",
    "import tensorflow as tf\n",
    "from tensorflow.keras.models import Sequential\n",
    "from tensorflow.keras.layers import Dense, Dropout, Activation, BatchNormalization\n",
    "from tensorflow.keras.utils import to_categorical"
   ]
  },
  {
   "cell_type": "markdown",
   "metadata": {
    "id": "ucnevGLoyKf_"
   },
   "source": [
    "Let us check for the version of TensorFlow."
   ]
  },
  {
   "cell_type": "code",
   "execution_count": 3,
   "metadata": {
    "colab": {
     "base_uri": "https://localhost:8080/"
    },
    "id": "W5as47YxyJVk",
    "outputId": "3f0a42b4-0b94-4027-f7bc-b47803fd3dd3"
   },
   "outputs": [
    {
     "name": "stdout",
     "output_type": "stream",
     "text": [
      "2.5.0\n"
     ]
    }
   ],
   "source": [
    "print(tf.__version__)"
   ]
  },
  {
   "cell_type": "markdown",
   "metadata": {
    "id": "8lsux2ZwyTTR"
   },
   "source": [
    "## **Load the dataset**\n",
    "- Let us now load the dataset that is available as a .h5 file.\n",
    "- Split the data into train and the test dataset"
   ]
  },
  {
   "cell_type": "code",
   "execution_count": 4,
   "metadata": {
    "id": "BApX9qgNsqV0",
    "scrolled": true
   },
   "outputs": [],
   "source": [
    "import h5py\n",
    "\n",
    "# Open the file as read only\n",
    "# User can make changes in the path as required\n",
    "h5f = h5py.File('/content/drive/MyDrive/SVHN_single_grey1.h5', 'r')\n",
    "\n",
    "# Load the training and the test set\n",
    "X_train = h5f['X_train'][:]\n",
    "y_train = h5f['y_train'][:]\n",
    "X_test = h5f['X_test'][:]\n",
    "y_test = h5f['y_test'][:]\n",
    "\n",
    "\n",
    "# Close this file\n",
    "h5f.close()"
   ]
  },
  {
   "cell_type": "markdown",
   "metadata": {
    "id": "hVe0CYpUgj7w"
   },
   "source": [
    "Let's check the number of images in the training and testing data."
   ]
  },
  {
   "cell_type": "code",
   "execution_count": 5,
   "metadata": {
    "colab": {
     "base_uri": "https://localhost:8080/"
    },
    "id": "y3lwKpOefkpA",
    "outputId": "ed292596-9a00-4fd2-c473-9ba811a87e95"
   },
   "outputs": [
    {
     "data": {
      "text/plain": [
       "(42000, 18000)"
      ]
     },
     "execution_count": 5,
     "metadata": {},
     "output_type": "execute_result"
    }
   ],
   "source": [
    "len(X_train), len(X_test)"
   ]
  },
  {
   "cell_type": "markdown",
   "metadata": {
    "id": "akTUOfLlgwoM"
   },
   "source": [
    "**Observations**\n",
    "- There are 42,000 images in the training data and 18,000 images in the testing data. "
   ]
  },
  {
   "cell_type": "markdown",
   "metadata": {
    "id": "kxODV6HKykuc"
   },
   "source": [
    "## **Visualizing images**\n",
    "- Use X_train to visualize the first 10 images\n",
    "- Use Y_train to print the first 10 labels"
   ]
  },
  {
   "cell_type": "code",
   "execution_count": 6,
   "metadata": {
    "colab": {
     "base_uri": "https://localhost:8080/",
     "height": 95
    },
    "id": "Bvsc8ytHsqWD",
    "outputId": "7bfe0808-17e4-475a-b52d-dd66b9999000"
   },
   "outputs": [
    {
     "data": {
      "image/png": "[encoded data removed]",
      "text/plain": [
       "<Figure size 720x72 with 10 Axes>"
      ]
     },
     "metadata": {
      "needs_background": "light"
     },
     "output_type": "display_data"
    },
    {
     "name": "stdout",
     "output_type": "stream",
     "text": [
      "label for each of the above image: [2 6 7 4 4 0 3 0 7 3]\n"
     ]
    }
   ],
   "source": [
    "# visualizing the first 10 images in the dataset and their labels\n",
    "plt.figure(figsize=(10, 1))\n",
    "\n",
    "for i in range(10):\n",
    "    plt.subplot(1, 10, i+1)\n",
    "    plt.imshow(X_train[i], cmap=\"gray\")\n",
    "    plt.axis('off')\n",
    "\n",
    "plt.show()\n",
    "print('label for each of the above image: %s' % (y_train[0:10]))"
   ]
  },
  {
   "cell_type": "markdown",
   "metadata": {
    "id": "kzoyeXHOy80N"
   },
   "source": [
    "## **Data preparation**\n",
    "\n",
    "- Print the first image in the train image and figure out the shape of the images\n",
    "- Reshape the train and the test dataset to flatten them. Figure out the required shape\n",
    "- Normalise the train and the test dataset by dividing by 255\n",
    "- Print the new shapes of the train and the test set\n",
    "- One-hot encode the target variable"
   ]
  },
  {
   "cell_type": "code",
   "execution_count": 7,
   "metadata": {
    "colab": {
     "base_uri": "https://localhost:8080/"
    },
    "id": "NqndzQXng9rL",
    "outputId": "a1a96918-fbea-484b-c856-0ee2bddc4457"
   },
   "outputs": [
    {
     "name": "stdout",
     "output_type": "stream",
     "text": [
      "Shape: (32, 32)\n",
      "\n",
      "First image:\n",
      " [[ 33.0704  30.2601  26.852  ...  71.4471  58.2204  42.9939]\n",
      " [ 25.2283  25.5533  29.9765 ... 113.0209 103.3639  84.2949]\n",
      " [ 26.2775  22.6137  40.4763 ... 113.3028 121.775  115.4228]\n",
      " ...\n",
      " [ 28.5502  36.212   45.0801 ...  24.1359  25.0927  26.0603]\n",
      " [ 38.4352  26.4733  23.2717 ...  28.1094  29.4683  30.0661]\n",
      " [ 50.2984  26.0773  24.0389 ...  49.6682  50.853   53.0377]]\n"
     ]
    }
   ],
   "source": [
    "# Shape of the images and the first image\n",
    "\n",
    "print(\"Shape:\", X_train[0].shape)\n",
    "print()\n",
    "print(\"First image:\\n\", X_train[0])"
   ]
  },
  {
   "cell_type": "code",
   "execution_count": 8,
   "metadata": {
    "id": "D9YPwf9ysqWU"
   },
   "outputs": [],
   "source": [
    "# Reshaping the dataset to flatten them. Remember that we are trying to reshape the 2D image data into a 1D array\n",
    "\n",
    "X_train = X_train.reshape(X_train.shape[0], 1024)\n",
    "X_test = X_test.reshape(X_test.shape[0], 1024)"
   ]
  },
  {
   "cell_type": "markdown",
   "metadata": {
    "id": "VxCu9DtrGzH6"
   },
   "source": [
    "#### **Question 1: Normalize the train and test data (2 Marks)**"
   ]
  },
  {
   "cell_type": "code",
   "execution_count": 9,
   "metadata": {
    "id": "q_yUUTp_mUzB"
   },
   "outputs": [],
   "source": [
    "# Normalize inputs from 0-255 to 0-1\n",
    "\n",
    "X_train = X_train.astype('float32')/255\n",
    "X_test = X_test.astype('float32')/255"
   ]
  },
  {
   "cell_type": "code",
   "execution_count": 10,
   "metadata": {
    "colab": {
     "base_uri": "https://localhost:8080/"
    },
    "id": "t7FSqOpamWkH",
    "outputId": "0ac82c72-2a6f-4e49-f15d-516c0e521af3"
   },
   "outputs": [
    {
     "name": "stdout",
     "output_type": "stream",
     "text": [
      "Training set: (42000, 1024) (42000,)\n",
      "Test set: (18000, 1024) (18000,)\n"
     ]
    }
   ],
   "source": [
    "# New shape \n",
    "\n",
    "print('Training set:', X_train.shape, y_train.shape)\n",
    "print('Test set:', X_test.shape, y_test.shape)"
   ]
  },
  {
   "cell_type": "code",
   "execution_count": 11,
   "metadata": {
    "colab": {
     "base_uri": "https://localhost:8080/"
    },
    "id": "zL0lYER4sqWw",
    "outputId": "e980530f-3e49-41cb-bbb0-c540676752a2"
   },
   "outputs": [
    {
     "data": {
      "text/plain": [
       "array([[0., 1., 0., ..., 0., 0., 0.],\n",
       "       [0., 0., 0., ..., 1., 0., 0.],\n",
       "       [0., 0., 1., ..., 0., 0., 0.],\n",
       "       ...,\n",
       "       [0., 0., 0., ..., 1., 0., 0.],\n",
       "       [0., 0., 0., ..., 0., 0., 1.],\n",
       "       [0., 0., 1., ..., 0., 0., 0.]], dtype=float32)"
      ]
     },
     "execution_count": 11,
     "metadata": {},
     "output_type": "execute_result"
    }
   ],
   "source": [
    "# one hot encode output\n",
    "y_train = to_categorical(y_train)\n",
    "y_test = to_categorical(y_test)\n",
    "\n",
    "# no.of classes\n",
    "y_test"
   ]
  },
  {
   "cell_type": "markdown",
   "metadata": {
    "id": "ViqPOTquCF76"
   },
   "source": [
    "**Observations**\n",
    "- Notice that each entry of y_test is a one-hot encoded vector instead of a single label."
   ]
  },
  {
   "cell_type": "markdown",
   "metadata": {
    "id": "yH-gVrzuByNA"
   },
   "source": [
    "## **Model Building**\n",
    "\n",
    "Now, we have done the data preprocessing, let's build an ANN model."
   ]
  },
  {
   "cell_type": "code",
   "execution_count": 12,
   "metadata": {
    "id": "d9ZjN17XGzIA"
   },
   "outputs": [],
   "source": [
    "#Fixing the seed for random number generators\n",
    "np.random.seed(42)\n",
    "import random\n",
    "random.seed(42)\n",
    "tf.random.set_seed(42)"
   ]
  },
  {
   "cell_type": "markdown",
   "metadata": {
    "id": "UJDUoaEj1d6e"
   },
   "source": [
    "### **Model Architecture**\n",
    "- Write a function that returns a sequential model with the following architecture\n",
    " - First hidden layer with **64 nodes and relu activation** and the input shape which is used above\n",
    " - Second hidden layer with **32 nodes and relu activation**\n",
    " - Output layer with **softmax activation and number of nodes equal to the number of classes**\n",
    " -Compile the model with the **categorical_crossentropy loss, adam optimizer (learning_rate = 0.001), and accuracy metric**. Do not fit the model here, just return the compiled model.\n",
    "- Call the function and store the model in a new variable \n",
    "- Print the summary of the model\n",
    "- Fit on the train data with a **validation split of 0.2, batch size = 128, verbose = 1, and 20 epochs**. Store the model building history to use later for visualization."
   ]
  },
  {
   "cell_type": "markdown",
   "metadata": {
    "id": "24NB3aVsGzIC"
   },
   "source": [
    "#### **Question 2: Build and train a ANN model as per the above mentioned architecture (10 Marks)**"
   ]
  },
  {
   "cell_type": "code",
   "execution_count": 13,
   "metadata": {
    "id": "Cmi81Gr5sqW-"
   },
   "outputs": [],
   "source": [
    "#Importing losses and optimizers modules\n",
    "from tensorflow.keras import losses\n",
    "from tensorflow.keras import optimizers\n",
    "\n",
    "#Define the function\n",
    "def nn_model_1():\n",
    "    model = Sequential() \n",
    "    #Add layers as per the architecture mentioned above in the same sequence\n",
    "    model.add(Dense(64, activation='relu', input_shape=(1024,)))\n",
    "    model.add(Dense(32, activation='relu'))\n",
    "    model.add(Dense(10, activation='softmax'))\n",
    "    #declare adam optimizer with learning rate of 0.001 \n",
    "    adam = optimizers.Adam(learning_rate=0.001)\n",
    "    \n",
    "    #compile the model\n",
    "    model.compile(optimizer=adam, loss=\"categorical_crossentropy\", metrics=['accuracy'])\n",
    "    \n",
    "    return model"
   ]
  },
  {
   "cell_type": "code",
   "execution_count": 14,
   "metadata": {
    "id": "bGCUI_xsImnH"
   },
   "outputs": [],
   "source": [
    "# Build the model\n",
    "model_1 = nn_model_1()"
   ]
  },
  {
   "cell_type": "code",
   "execution_count": 15,
   "metadata": {
    "colab": {
     "base_uri": "https://localhost:8080/"
    },
    "id": "ckJsLdmdQadZ",
    "outputId": "704fa0a5-78fd-45f9-9dd2-26999408b50b"
   },
   "outputs": [
    {
     "name": "stdout",
     "output_type": "stream",
     "text": [
      "Model: \"sequential\"\n",
      "_________________________________________________________________\n",
      "Layer (type)                 Output Shape              Param #   \n",
      "=================================================================\n",
      "dense (Dense)                (None, 64)                65600     \n",
      "_________________________________________________________________\n",
      "dense_1 (Dense)              (None, 32)                2080      \n",
      "_________________________________________________________________\n",
      "dense_2 (Dense)              (None, 10)                330       \n",
      "=================================================================\n",
      "Total params: 68,010\n",
      "Trainable params: 68,010\n",
      "Non-trainable params: 0\n",
      "_________________________________________________________________\n"
     ]
    }
   ],
   "source": [
    "#Print the summary\n",
    "model_1.summary()"
   ]
  },
  {
   "cell_type": "code",
   "execution_count": 16,
   "metadata": {
    "colab": {
     "base_uri": "https://localhost:8080/"
    },
    "id": "3Fy3Dif_zcCk",
    "outputId": "c5cd75a5-e555-4a35-bb26-29236ce79a0b"
   },
   "outputs": [
    {
     "name": "stdout",
     "output_type": "stream",
     "text": [
      "Epoch 1/20\n",
      "263/263 [==============================] - 4s 6ms/step - loss: 2.3008 - accuracy: 0.1144 - val_loss: 2.2670 - val_accuracy: 0.1352\n",
      "Epoch 2/20\n",
      "263/263 [==============================] - 1s 5ms/step - loss: 2.1307 - accuracy: 0.2299 - val_loss: 1.9434 - val_accuracy: 0.3024\n",
      "Epoch 3/20\n",
      "263/263 [==============================] - 1s 5ms/step - loss: 1.8054 - accuracy: 0.3639 - val_loss: 1.6951 - val_accuracy: 0.4092\n",
      "Epoch 4/20\n",
      "263/263 [==============================] - 1s 5ms/step - loss: 1.6364 - accuracy: 0.4394 - val_loss: 1.5753 - val_accuracy: 0.4702\n",
      "Epoch 5/20\n",
      "263/263 [==============================] - 1s 5ms/step - loss: 1.5373 - accuracy: 0.4802 - val_loss: 1.4813 - val_accuracy: 0.5095\n",
      "Epoch 6/20\n",
      "263/263 [==============================] - 1s 5ms/step - loss: 1.4694 - accuracy: 0.5079 - val_loss: 1.4344 - val_accuracy: 0.5249\n",
      "Epoch 7/20\n",
      "263/263 [==============================] - 1s 5ms/step - loss: 1.4366 - accuracy: 0.5203 - val_loss: 1.4060 - val_accuracy: 0.5383\n",
      "Epoch 8/20\n",
      "263/263 [==============================] - 1s 5ms/step - loss: 1.4057 - accuracy: 0.5342 - val_loss: 1.3797 - val_accuracy: 0.5498\n",
      "Epoch 9/20\n",
      "263/263 [==============================] - 1s 5ms/step - loss: 1.3804 - accuracy: 0.5467 - val_loss: 1.3580 - val_accuracy: 0.5600\n",
      "Epoch 10/20\n",
      "263/263 [==============================] - 1s 5ms/step - loss: 1.3622 - accuracy: 0.5554 - val_loss: 1.3368 - val_accuracy: 0.5718\n",
      "Epoch 11/20\n",
      "263/263 [==============================] - 1s 5ms/step - loss: 1.3415 - accuracy: 0.5680 - val_loss: 1.3635 - val_accuracy: 0.5574\n",
      "Epoch 12/20\n",
      "263/263 [==============================] - 1s 5ms/step - loss: 1.3199 - accuracy: 0.5763 - val_loss: 1.3093 - val_accuracy: 0.5870\n",
      "Epoch 13/20\n",
      "263/263 [==============================] - 1s 5ms/step - loss: 1.3048 - accuracy: 0.5863 - val_loss: 1.3107 - val_accuracy: 0.5832\n",
      "Epoch 14/20\n",
      "263/263 [==============================] - 1s 5ms/step - loss: 1.2845 - accuracy: 0.5949 - val_loss: 1.2773 - val_accuracy: 0.6015\n",
      "Epoch 15/20\n",
      "263/263 [==============================] - 1s 5ms/step - loss: 1.2657 - accuracy: 0.6030 - val_loss: 1.2865 - val_accuracy: 0.5857\n",
      "Epoch 16/20\n",
      "263/263 [==============================] - 1s 5ms/step - loss: 1.2597 - accuracy: 0.6046 - val_loss: 1.2542 - val_accuracy: 0.6096\n",
      "Epoch 17/20\n",
      "263/263 [==============================] - 1s 5ms/step - loss: 1.2467 - accuracy: 0.6089 - val_loss: 1.2519 - val_accuracy: 0.6057\n",
      "Epoch 18/20\n",
      "263/263 [==============================] - 1s 5ms/step - loss: 1.2391 - accuracy: 0.6110 - val_loss: 1.2365 - val_accuracy: 0.6173\n",
      "Epoch 19/20\n",
      "263/263 [==============================] - 1s 5ms/step - loss: 1.2304 - accuracy: 0.6139 - val_loss: 1.2351 - val_accuracy: 0.6155\n",
      "Epoch 20/20\n",
      "263/263 [==============================] - 1s 5ms/step - loss: 1.2262 - accuracy: 0.6146 - val_loss: 1.2250 - val_accuracy: 0.6224\n"
     ]
    }
   ],
   "source": [
    "# Fit the model\n",
    "history_model_1 = model_1.fit(X_train, y_train, validation_split=0.2, batch_size=128, verbose=1, epochs=20)"
   ]
  },
  {
   "cell_type": "markdown",
   "metadata": {
    "id": "tKOckG-KPyLg"
   },
   "source": [
    "### **Plotting the validation and training accuracies**"
   ]
  },
  {
   "cell_type": "markdown",
   "metadata": {
    "id": "CuKXZ3SmGzIG"
   },
   "source": [
    "#### **Question 3: Write your observations on the below plot (2 Marks)**"
   ]
  },
  {
   "cell_type": "code",
   "execution_count": 17,
   "metadata": {
    "colab": {
     "base_uri": "https://localhost:8080/",
     "height": 497
    },
    "id": "lt77zgGMP4yw",
    "outputId": "c770155b-5847-4534-9e13-c950a50ce2ab"
   },
   "outputs": [
    {
     "data": {
      "image/png": "[encoded data removed]",
      "text/plain": [
       "<Figure size 576x576 with 1 Axes>"
      ]
     },
     "metadata": {
      "needs_background": "light"
     },
     "output_type": "display_data"
    }
   ],
   "source": [
    "# plotting the accuracies\n",
    "\n",
    "dict_hist = history_model_1.history\n",
    "list_ep = [i for i in range(1,21)]\n",
    "\n",
    "plt.figure(figsize = (8,8))\n",
    "plt.plot(list_ep,dict_hist['accuracy'],ls = '--', label = 'accuracy')\n",
    "plt.plot(list_ep,dict_hist['val_accuracy'],ls = '--', label = 'val_accuracy')\n",
    "plt.ylabel('Accuracy')\n",
    "plt.xlabel('Epochs')\n",
    "plt.legend()\n",
    "plt.show()"
   ]
  },
  {
   "cell_type": "markdown",
   "metadata": {
    "id": "pGBbQpLONX7k"
   },
   "source": [
    "**Observations:**\n",
    "- The accuracy seems to be rising as the epochs do, however it seems to be converging at approximately 0.61\n",
    "- This is still not a good accuracy value.\n",
    "- Validation accuracy is very close to accuracy. Model seems to be generalizing well.\n",
    "- The increase from 12.5 to 20 epochs is very small. It might not be worth it to continue running the model as the increase in accuracy has diminishing returns.\n",
    "- A 0.6 accuracy is very low, this model is not being as accurate as it should. We should try to adjust the neural network as to improve this value. \n",
    "- We need to improve the performance\n"
   ]
  },
  {
   "cell_type": "markdown",
   "metadata": {
    "id": "z0qgLMBZm5-K"
   },
   "source": [
    "\n",
    "Let's build one more model with higher complexity and see if we can improve the performance of the model. \n",
    "\n",
    "First, we need to clear the previous model's history from the keras backend. Also, let's fix the seed again after clearing the backend."
   ]
  },
  {
   "cell_type": "code",
   "execution_count": 18,
   "metadata": {
    "id": "y98BpLxsok_H"
   },
   "outputs": [],
   "source": [
    "#Clearing backend\n",
    "from tensorflow.keras import backend\n",
    "backend.clear_session()"
   ]
  },
  {
   "cell_type": "code",
   "execution_count": 19,
   "metadata": {
    "id": "HbKi93HTolGW"
   },
   "outputs": [],
   "source": [
    "#Fixing the seed for random number generators\n",
    "np.random.seed(42)\n",
    "import random\n",
    "random.seed(42)\n",
    "tf.random.set_seed(42)"
   ]
  },
  {
   "cell_type": "markdown",
   "metadata": {
    "id": "lT6o3TIKuCtk"
   },
   "source": [
    "### **Second Model Architecture**\n",
    "- Write a function that returns a sequential model with the following architecture\n",
    " - First hidden layer with **256 nodes and relu activation**\n",
    " - Second hidden layer with **128 nodes and relu activation**\n",
    " - Add the **Dropout layer with rate equal to 0.2**\n",
    " - Third hidden layer with **64 nodes and relu activation**\n",
    " - Fourth hidden layer with **64 nodes and relu activation**\n",
    " - Fifth hidden layer with **32 nodes and relu activation**\n",
    " - Add the **BatchNormalization layer**\n",
    " - Output layer with **softmax activation and number of nodes equal to the number of classes**\n",
    " -Compile the model with the **categorical_crossentropy loss, adam optimizer (learning_rate = 0.0005), and accuracy metric**. Do not fit the model here, just return the compiled model.\n",
    "- Call the function and store the model in a new variable \n",
    "- Print the summary of the model\n",
    "- Fit on the train data with a **validation split of 0.2, batch size = 128, verbose = 1, and 30 epochs**. Store the model building history to use later for visualization."
   ]
  },
  {
   "cell_type": "markdown",
   "metadata": {
    "id": "4dV32YjAGzIR"
   },
   "source": [
    "#### **Question 4: Build and train the new ANN model as per the above mentioned architecture (10 Marks)**"
   ]
  },
  {
   "cell_type": "code",
   "execution_count": 20,
   "metadata": {
    "id": "EEPYLFIPnSDP"
   },
   "outputs": [],
   "source": [
    "#Importing losses and optimizers modules\n",
    "from tensorflow.keras import losses\n",
    "from tensorflow.keras import optimizers\n",
    "\n",
    "#Define the function\n",
    "def nn_model_2():\n",
    "    model = Sequential() \n",
    "    #Add layers as per the architecture mentioned above in the same sequence\n",
    "    model.add(Dense(256, activation='relu', input_shape=(1024,))) #first\n",
    "    model.add(Dense(128, activation='relu')) #second\n",
    "    model.add(Dropout(0.2)) #dropout\n",
    "    model.add(Dense(64, activation='relu')) #third\n",
    "    model.add(Dense(64, activation='relu')) #fourth\n",
    "    model.add(Dense(32, activation='relu')) #fifth\n",
    "    model.add(BatchNormalization()) #batch\n",
    "    model.add(Dense(10, activation='softmax'))\n",
    "    #declare adam optimizer with learning rate of 0.0005 \n",
    "    adam = optimizers.Adam(learning_rate=0.0005)\n",
    "    \n",
    "    #compile the model\n",
    "    model.compile(optimizer=adam, loss=\"categorical_crossentropy\", metrics=['accuracy'])\n",
    "    \n",
    "    return model"
   ]
  },
  {
   "cell_type": "code",
   "execution_count": 21,
   "metadata": {
    "id": "AKjDY4plnSFl"
   },
   "outputs": [],
   "source": [
    "# Build the model\n",
    "model_2 = nn_model_2()"
   ]
  },
  {
   "cell_type": "code",
   "execution_count": 22,
   "metadata": {
    "colab": {
     "base_uri": "https://localhost:8080/"
    },
    "id": "gz_6SVrU2swZ",
    "outputId": "eb967a74-5815-4395-86af-d72ab0d47951"
   },
   "outputs": [
    {
     "name": "stdout",
     "output_type": "stream",
     "text": [
      "Model: \"sequential\"\n",
      "_________________________________________________________________\n",
      "Layer (type)                 Output Shape              Param #   \n",
      "=================================================================\n",
      "dense (Dense)                (None, 256)               262400    \n",
      "_________________________________________________________________\n",
      "dense_1 (Dense)              (None, 128)               32896     \n",
      "_________________________________________________________________\n",
      "dropout (Dropout)            (None, 128)               0         \n",
      "_________________________________________________________________\n",
      "dense_2 (Dense)              (None, 64)                8256      \n",
      "_________________________________________________________________\n",
      "dense_3 (Dense)              (None, 64)                4160      \n",
      "_________________________________________________________________\n",
      "dense_4 (Dense)              (None, 32)                2080      \n",
      "_________________________________________________________________\n",
      "batch_normalization (BatchNo (None, 32)                128       \n",
      "_________________________________________________________________\n",
      "dense_5 (Dense)              (None, 10)                330       \n",
      "=================================================================\n",
      "Total params: 310,250\n",
      "Trainable params: 310,186\n",
      "Non-trainable params: 64\n",
      "_________________________________________________________________\n"
     ]
    }
   ],
   "source": [
    "#Print the model summary\n",
    "model_2.summary()"
   ]
  },
  {
   "cell_type": "code",
   "execution_count": 23,
   "metadata": {
    "colab": {
     "base_uri": "https://localhost:8080/"
    },
    "id": "IQ0Sc4R-y-uu",
    "outputId": "30dbce79-b0d9-4014-cae8-104e89c5c152"
   },
   "outputs": [
    {
     "name": "stdout",
     "output_type": "stream",
     "text": [
      "Epoch 1/30\n",
      "263/263 [==============================] - 3s 8ms/step - loss: 2.3516 - accuracy: 0.0973 - val_loss: 2.3070 - val_accuracy: 0.1035\n",
      "Epoch 2/30\n",
      "263/263 [==============================] - 2s 7ms/step - loss: 2.2336 - accuracy: 0.1481 - val_loss: 2.1722 - val_accuracy: 0.2508\n",
      "Epoch 3/30\n",
      "263/263 [==============================] - 2s 6ms/step - loss: 1.8498 - accuracy: 0.3415 - val_loss: 1.6979 - val_accuracy: 0.4129\n",
      "Epoch 4/30\n",
      "263/263 [==============================] - 2s 7ms/step - loss: 1.5154 - accuracy: 0.4817 - val_loss: 1.3986 - val_accuracy: 0.5245\n",
      "Epoch 5/30\n",
      "263/263 [==============================] - 2s 6ms/step - loss: 1.2983 - accuracy: 0.5717 - val_loss: 1.1800 - val_accuracy: 0.6182\n",
      "Epoch 6/30\n",
      "263/263 [==============================] - 2s 6ms/step - loss: 1.1950 - accuracy: 0.6098 - val_loss: 1.1038 - val_accuracy: 0.6412\n",
      "Epoch 7/30\n",
      "263/263 [==============================] - 2s 7ms/step - loss: 1.1066 - accuracy: 0.6460 - val_loss: 1.0758 - val_accuracy: 0.6531\n",
      "Epoch 8/30\n",
      "263/263 [==============================] - 2s 6ms/step - loss: 1.0675 - accuracy: 0.6587 - val_loss: 1.0159 - val_accuracy: 0.6758\n",
      "Epoch 9/30\n",
      "263/263 [==============================] - 2s 7ms/step - loss: 1.0094 - accuracy: 0.6765 - val_loss: 0.9821 - val_accuracy: 0.6898\n",
      "Epoch 10/30\n",
      "263/263 [==============================] - 2s 6ms/step - loss: 0.9775 - accuracy: 0.6862 - val_loss: 1.0025 - val_accuracy: 0.6855\n",
      "Epoch 11/30\n",
      "263/263 [==============================] - 2s 7ms/step - loss: 0.9493 - accuracy: 0.6980 - val_loss: 0.8820 - val_accuracy: 0.7200\n",
      "Epoch 12/30\n",
      "263/263 [==============================] - 2s 6ms/step - loss: 0.9176 - accuracy: 0.7088 - val_loss: 0.8872 - val_accuracy: 0.7144\n",
      "Epoch 13/30\n",
      "263/263 [==============================] - 2s 7ms/step - loss: 0.8978 - accuracy: 0.7144 - val_loss: 0.8629 - val_accuracy: 0.7305\n",
      "Epoch 14/30\n",
      "263/263 [==============================] - 2s 6ms/step - loss: 0.8835 - accuracy: 0.7218 - val_loss: 0.8410 - val_accuracy: 0.7367\n",
      "Epoch 15/30\n",
      "263/263 [==============================] - 2s 6ms/step - loss: 0.8628 - accuracy: 0.7274 - val_loss: 0.9144 - val_accuracy: 0.7102\n",
      "Epoch 16/30\n",
      "263/263 [==============================] - 2s 7ms/step - loss: 0.8370 - accuracy: 0.7344 - val_loss: 0.8033 - val_accuracy: 0.7446\n",
      "Epoch 17/30\n",
      "263/263 [==============================] - 2s 6ms/step - loss: 0.8197 - accuracy: 0.7415 - val_loss: 0.8432 - val_accuracy: 0.7304\n",
      "Epoch 18/30\n",
      "263/263 [==============================] - 2s 6ms/step - loss: 0.8036 - accuracy: 0.7459 - val_loss: 0.7917 - val_accuracy: 0.7518\n",
      "Epoch 19/30\n",
      "263/263 [==============================] - 2s 6ms/step - loss: 0.8029 - accuracy: 0.7448 - val_loss: 0.7599 - val_accuracy: 0.7633\n",
      "Epoch 20/30\n",
      "263/263 [==============================] - 2s 6ms/step - loss: 0.7952 - accuracy: 0.7495 - val_loss: 0.7979 - val_accuracy: 0.7514\n",
      "Epoch 21/30\n",
      "263/263 [==============================] - 2s 7ms/step - loss: 0.7824 - accuracy: 0.7527 - val_loss: 0.7543 - val_accuracy: 0.7608\n",
      "Epoch 22/30\n",
      "263/263 [==============================] - 2s 6ms/step - loss: 0.7697 - accuracy: 0.7572 - val_loss: 0.7876 - val_accuracy: 0.7479\n",
      "Epoch 23/30\n",
      "263/263 [==============================] - 2s 7ms/step - loss: 0.7531 - accuracy: 0.7606 - val_loss: 0.7891 - val_accuracy: 0.7510\n",
      "Epoch 24/30\n",
      "263/263 [==============================] - 2s 7ms/step - loss: 0.7513 - accuracy: 0.7612 - val_loss: 0.7686 - val_accuracy: 0.7596\n",
      "Epoch 25/30\n",
      "263/263 [==============================] - 2s 7ms/step - loss: 0.7421 - accuracy: 0.7635 - val_loss: 0.7357 - val_accuracy: 0.7700\n",
      "Epoch 26/30\n",
      "263/263 [==============================] - 2s 6ms/step - loss: 0.7289 - accuracy: 0.7699 - val_loss: 0.7584 - val_accuracy: 0.7631\n",
      "Epoch 27/30\n",
      "263/263 [==============================] - 2s 6ms/step - loss: 0.7198 - accuracy: 0.7722 - val_loss: 0.7528 - val_accuracy: 0.7644\n",
      "Epoch 28/30\n",
      "263/263 [==============================] - 2s 6ms/step - loss: 0.7200 - accuracy: 0.7721 - val_loss: 0.7589 - val_accuracy: 0.7586\n",
      "Epoch 29/30\n",
      "263/263 [==============================] - 2s 7ms/step - loss: 0.7138 - accuracy: 0.7739 - val_loss: 0.7284 - val_accuracy: 0.7704\n",
      "Epoch 30/30\n",
      "263/263 [==============================] - 2s 6ms/step - loss: 0.7064 - accuracy: 0.7761 - val_loss: 0.7220 - val_accuracy: 0.7736\n"
     ]
    }
   ],
   "source": [
    "# Fit the model\n",
    "history_model_2 = model_2.fit(X_train, y_train, validation_split=0.2, batch_size=128, verbose=1, epochs=30)"
   ]
  },
  {
   "cell_type": "markdown",
   "metadata": {
    "id": "qtE4DFxdGzIT"
   },
   "source": [
    "### **Plotting the validation and training accuracies**"
   ]
  },
  {
   "cell_type": "markdown",
   "metadata": {
    "id": "O1td6Nd4GzIU"
   },
   "source": [
    "#### **Question 5: Write your observations on the below plot (2 Marks)**"
   ]
  },
  {
   "cell_type": "code",
   "execution_count": 24,
   "metadata": {
    "colab": {
     "base_uri": "https://localhost:8080/",
     "height": 497
    },
    "id": "01ig6BrF1KVy",
    "outputId": "803796cc-312f-40cc-d0a2-ff6d9d029644"
   },
   "outputs": [
    {
     "data": {
      "image/png": "[encoded data removed]",
      "text/plain": [
       "<Figure size 576x576 with 1 Axes>"
      ]
     },
     "metadata": {
      "needs_background": "light"
     },
     "output_type": "display_data"
    }
   ],
   "source": [
    "# plotting the accuracies\n",
    "\n",
    "dict_hist = history_model_2.history\n",
    "list_ep = [i for i in range(1,31)]\n",
    "\n",
    "plt.figure(figsize = (8,8))\n",
    "plt.plot(list_ep,dict_hist['accuracy'],ls = '--', label = 'accuracy')\n",
    "plt.plot(list_ep,dict_hist['val_accuracy'],ls = '--', label = 'val_accuracy')\n",
    "plt.ylabel('Accuracy')\n",
    "plt.xlabel('Epochs')\n",
    "plt.legend()\n",
    "plt.show()"
   ]
  },
  {
   "cell_type": "markdown",
   "metadata": {
    "id": "VPW1LlD61RDn"
   },
   "source": [
    "**Observations:**\n",
    "- The model took a longer time to run. This makes sense, as the network is deeper.\n",
    "- The accuracy is significantly improved. There are still diminishing returns and the accuracy seems to be approaching 0.8, but this is a large improvement over the previous model.\n",
    "- The epoch-by-epoch improvement starts rapidly diminishing starting on the 15th epoch. It does still improve up to the 30th, but it is not as rapid.\n",
    "- 0.8 is good accuracy for a ANN model on image recognition. However it could still be improved via CNN models.\n",
    "- We need to be cautious about overfitting. However, to avoid this, we used some regularization techniques like Dropout. This model seems to be generalizing well as validation accuracy is very close to accuracy. We still need to see the accuracy on test data to see if it is overfitting/has noise, but val accuracy being so close to accuracy seems to indicate that the model generalizes well."
   ]
  },
  {
   "cell_type": "markdown",
   "metadata": {
    "id": "8kuXx9Bvu00f"
   },
   "source": [
    "## **Predictions on the test data**\n",
    "\n",
    "- Make predictions on the test set using the second model\n",
    "- Print the obtained results using the classification report and the confusion matrix\n",
    "- Final observations from the obtained results"
   ]
  },
  {
   "cell_type": "code",
   "execution_count": 25,
   "metadata": {
    "id": "xbWMEtTj5Ad0"
   },
   "outputs": [],
   "source": [
    "test_pred = model_2.predict(X_test)\n",
    "\n",
    "test_pred = np.argmax(test_pred, axis=-1)"
   ]
  },
  {
   "cell_type": "markdown",
   "metadata": {
    "id": "i3li8Ib08yts"
   },
   "source": [
    "**Note:** Earlier, we noticed that each entry of the test data is a one-hot encoded vector but to print the classification report and confusion matrix, we must convert each entry of y_test to a single label."
   ]
  },
  {
   "cell_type": "code",
   "execution_count": 26,
   "metadata": {
    "id": "NByu7uAQ8x9P"
   },
   "outputs": [],
   "source": [
    "#Converting each entry to single label from one-hot encoded vector\n",
    "y_test = np.argmax(y_test, axis=-1)"
   ]
  },
  {
   "cell_type": "markdown",
   "metadata": {
    "id": "JVxGB0qaGzIY"
   },
   "source": [
    "#### **Question 6: Print the classification report and the confusion matrix for the test predictions. Write your observations on the final results (4 Marks)**"
   ]
  },
  {
   "cell_type": "code",
   "execution_count": 27,
   "metadata": {
    "colab": {
     "base_uri": "https://localhost:8080/",
     "height": 629
    },
    "id": "xRddeJ-3EHT1",
    "outputId": "2e6cf357-a9c1-40bc-c717-5f3257047277"
   },
   "outputs": [
    {
     "name": "stdout",
     "output_type": "stream",
     "text": [
      "              precision    recall  f1-score   support\n",
      "\n",
      "           0       0.90      0.72      0.80      1814\n",
      "           1       0.76      0.80      0.78      1828\n",
      "           2       0.79      0.80      0.79      1803\n",
      "           3       0.64      0.79      0.71      1719\n",
      "           4       0.86      0.79      0.82      1812\n",
      "           5       0.78      0.72      0.75      1768\n",
      "           6       0.83      0.76      0.79      1832\n",
      "           7       0.80      0.83      0.81      1808\n",
      "           8       0.76      0.71      0.74      1812\n",
      "           9       0.69      0.80      0.74      1804\n",
      "\n",
      "    accuracy                           0.77     18000\n",
      "   macro avg       0.78      0.77      0.77     18000\n",
      "weighted avg       0.78      0.77      0.77     18000\n",
      "\n"
     ]
    },
    {
     "data": {
      "image/png": "[encoded data removed]",
      "text/plain": [
       "<Figure size 576x360 with 2 Axes>"
      ]
     },
     "metadata": {
      "needs_background": "light"
     },
     "output_type": "display_data"
    }
   ],
   "source": [
    "#importing required functions\n",
    "from sklearn.metrics import classification_report\n",
    "from sklearn.metrics import confusion_matrix\n",
    "\n",
    "#Printing the classification report\n",
    "print(classification_report(y_test, test_pred))\n",
    "cm=confusion_matrix(y_test, test_pred)\n",
    "plt.figure(figsize=(8,5))\n",
    "sns.heatmap(cm, annot=True,  fmt='.0f')\n",
    "plt.ylabel('Actual')\n",
    "plt.xlabel('Predicted')\n",
    "plt.show()"
   ]
  },
  {
   "cell_type": "markdown",
   "metadata": {
    "id": "DjErl4GA2u9s"
   },
   "source": [
    "#### **Observations:**\n",
    "- The accuracy seems to be really good on the test data compared to training.\n",
    "- The model does not seem to be overfitting much, with an overall accuracy of 0.78.\n",
    "- The diagonals are all in the lightest color, while almost every non-diagonal tile is in the darkest. This means that the vast majority of predictions are correct classifications, and misclassifications are mostly spread out.\n",
    "- Weakest classes are 3 and 8 with 0.74 f1-score. The model is pretty weak at predicting these classes.\n",
    "- Meanwhile, the model has a very strong f1-score for class 0, with 0.82. This ANN model is pretty strong at classifying this class.\n",
    "- Every class has an f1-score between 0.7 and 0.8. This is very decent performance for a ANN used for image processing. This could still be improved by CNNs.\n",
    "- 2 and 7 seem to be getting confused by each other the most, same with 6 and 8 and 5 with 3. However the misclassification errors are not drastic.\n",
    "- Overall, the confusion matrix shows that the model is very strong at predicting most digits. The misclassification errors seem to be mostly spread out across all other classes. The model is relatively strong, however the performance can hopefully be improved with other methods, such as CNNs."
   ]
  }
 ],
 "metadata": {
  "accelerator": "GPU",
  "colab": {
   "collapsed_sections": [],
   "name": "MauricioDeGarayHernandez_ANN.ipynb",
   "provenance": []
  },
  "kernelspec": {
   "display_name": "Python 3",
   "language": "python",
   "name": "python3"
  },
  "language_info": {
   "codemirror_mode": {
    "name": "ipython",
    "version": 3
   },
   "file_extension": ".py",
   "mimetype": "text/x-python",
   "name": "python",
   "nbconvert_exporter": "python",
   "pygments_lexer": "ipython3",
   "version": "3.9.1"
  }
 },
 "nbformat": 4,
 "nbformat_minor": 1
}
