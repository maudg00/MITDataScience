{
 "cells": [
  {
   "cell_type": "markdown",
   "id": "7d78997c",
   "metadata": {},
   "source": [
    "# Project: Classification - Hotel Booking Cancellation Prediction\n",
    "\n",
    "## Marks: 30\n",
    "\n",
    "Welcome to the project on classification. We will use the INN Hotels dataset for this problem."
   ]
  },
  {
   "cell_type": "markdown",
   "id": "a0ca5581",
   "metadata": {
    "id": "dense-medicaid"
   },
   "source": [
    "## Context\n",
    "\n",
    "A significant number of hotel bookings are called off due to cancellations or no-shows. The typical reasons for cancellations include change of plans, scheduling conflicts, etc. This is often made easier by the option to do so free of charge or preferably at a low cost which is beneficial to hotel guests but it is a less desirable and possibly revenue-diminishing factor for hotels to deal with. Such losses are particularly high on last-minute cancellations.\n",
    "\n",
    "The new technologies involving online booking channels have dramatically changed customers' booking possibilities and behavior. This adds a further dimension to the challenge of how hotels handle cancellations, which are no longer limited to traditional booking and guest characteristics.\n",
    "\n",
    "The cancellation of bookings impact a hotel on various fronts:\n",
    "1. Loss of resources (revenue) when the hotel cannot resell the room.\n",
    "2. Additional costs of distribution channels by increasing commissions or paying for publicity to help sell these rooms.\n",
    "3. Lowering prices last minute, so the hotel can resell a room, resulting in reducing the profit margin.\n",
    "4. Human resources to make arrangements for the guests.\n",
    "\n",
    "## Objective\n",
    "\n",
    "The increasing number of cancellations calls for a Machine Learning based solution that can help in predicting which booking is likely to be canceled. INN Hotels Group has a chain of hotels in Portugal, they are facing problems with the high number of booking cancellations and have reached out to your firm for data-driven solutions. You as a data scientist have to analyze the data provided to find which factors have a high influence on booking cancellations, build a predictive model that can predict which booking is going to be canceled in advance, and help in formulating profitable policies for cancellations and refunds.\n",
    "\n",
    "\n",
    "## Data Description\n",
    "\n",
    "The data contains the different attributes of customers' booking details. The detailed data dictionary is given below.\n",
    "\n",
    "\n",
    "**Data Dictionary**\n",
    "\n",
    "* Booking_ID: unique identifier of each booking\n",
    "* no_of_adults: Number of adults\n",
    "* no_of_children: Number of Children\n",
    "* no_of_weekend_nights: Number of weekend nights (Saturday or Sunday) the guest stayed or booked to stay at the hotel\n",
    "* no_of_week_nights: Number of week nights (Monday to Friday) the guest stayed or booked to stay at the hotel\n",
    "* type_of_meal_plan: Type of meal plan booked by the customer:\n",
    "    * Not Selected – No meal plan selected\n",
    "    * Meal Plan 1 – Breakfast\n",
    "    * Meal Plan 2 – Half board (breakfast and one other meal)\n",
    "    * Meal Plan 3 – Full board (breakfast, lunch, and dinner)\n",
    "* required_car_parking_space: Does the customer require a car parking space? (0 - No, 1- Yes)\n",
    "* room_type_reserved: Type of room reserved by the customer. The values are ciphered (encoded) by INN Hotels.\n",
    "* lead_time: Number of days between the date of booking and the arrival date\n",
    "* arrival_year: Year of arrival date\n",
    "* arrival_month: Month of arrival date\n",
    "* arrival_date: Date of the month\n",
    "* market_segment_type: Market segment designation.\n",
    "* repeated_guest: Is the customer a repeated guest? (0 - No, 1- Yes)\n",
    "* no_of_previous_cancellations: Number of previous bookings that were canceled by the customer prior to the current booking\n",
    "* no_of_previous_bookings_not_canceled: Number of previous bookings not canceled by the customer prior to the current booking\n",
    "* avg_price_per_room: Average price per day of the reservation; prices of the rooms are dynamic. (in euros)\n",
    "* no_of_special_requests: Total number of special requests made by the customer (e.g. high floor, view from the room, etc)\n",
    "* booking_status: Flag indicating if the booking was canceled or not."
   ]
  },
  {
   "cell_type": "markdown",
   "id": "826b6f8d",
   "metadata": {},
   "source": [
    "## Importing necessary libraries and overview of the dataset"
   ]
  },
  {
   "cell_type": "code",
   "execution_count": 1,
   "id": "0897a29e",
   "metadata": {},
   "outputs": [],
   "source": [
    "import warnings\n",
    "warnings.filterwarnings(\"ignore\")\n",
    "\n",
    "import pandas as pd\n",
    "import numpy as np\n",
    "import matplotlib.pyplot as plt\n",
    "import seaborn as sns\n",
    "\n",
    "#To scale the data using z-score \n",
    "from sklearn.preprocessing import StandardScaler\n",
    "\n",
    "from sklearn.model_selection import train_test_split\n",
    "\n",
    "#Algorithms to use\n",
    "from sklearn.linear_model import LogisticRegression\n",
    "from sklearn.neighbors import KNeighborsClassifier\n",
    "\n",
    "#To tune the model\n",
    "from sklearn.model_selection import GridSearchCV\n",
    "\n",
    "#Metrics to evaluate the model\n",
    "from sklearn.metrics import confusion_matrix, classification_report, precision_recall_curve"
   ]
  },
  {
   "cell_type": "markdown",
   "id": "1ebd9034",
   "metadata": {
    "id": "fantastic-rebel"
   },
   "source": [
    "#### Loading data"
   ]
  },
  {
   "cell_type": "code",
   "execution_count": 2,
   "id": "6f697aa5",
   "metadata": {
    "id": "precious-leonard",
    "outputId": "0c8093b8-d38f-4732-b1eb-40c406b1e540"
   },
   "outputs": [],
   "source": [
    "hotel = pd.read_csv(\"INNHotelsGroup.csv\")"
   ]
  },
  {
   "cell_type": "code",
   "execution_count": 3,
   "id": "1f201fbb",
   "metadata": {
    "id": "geographic-gender",
    "outputId": "e8974753-2ac4-4e98-89e4-be262d4eb21e"
   },
   "outputs": [],
   "source": [
    "# copying data to another variable to avoid any changes to original data\n",
    "data = hotel.copy()"
   ]
  },
  {
   "cell_type": "markdown",
   "id": "3ded5992",
   "metadata": {
    "id": "convinced-blackberry"
   },
   "source": [
    "#### View the first and last 5 rows of the dataset"
   ]
  },
  {
   "cell_type": "code",
   "execution_count": 4,
   "id": "6895f9f7",
   "metadata": {
    "id": "tested-adjustment",
    "outputId": "5a49f79c-b530-49ec-aee1-b540342ffa6a"
   },
   "outputs": [
    {
     "data": {
      "text/html": [
       "<div>\n",
       "<style scoped>\n",
       "    .dataframe tbody tr th:only-of-type {\n",
       "        vertical-align: middle;\n",
       "    }\n",
       "\n",
       "    .dataframe tbody tr th {\n",
       "        vertical-align: top;\n",
       "    }\n",
       "\n",
       "    .dataframe thead th {\n",
       "        text-align: right;\n",
       "    }\n",
       "</style>\n",
       "<table border=\"1\" class=\"dataframe\">\n",
       "  <thead>\n",
       "    <tr style=\"text-align: right;\">\n",
       "      <th></th>\n",
       "      <th>Booking_ID</th>\n",
       "      <th>no_of_adults</th>\n",
       "      <th>no_of_children</th>\n",
       "      <th>no_of_weekend_nights</th>\n",
       "      <th>no_of_week_nights</th>\n",
       "      <th>type_of_meal_plan</th>\n",
       "      <th>required_car_parking_space</th>\n",
       "      <th>room_type_reserved</th>\n",
       "      <th>lead_time</th>\n",
       "      <th>arrival_year</th>\n",
       "      <th>arrival_month</th>\n",
       "      <th>arrival_date</th>\n",
       "      <th>market_segment_type</th>\n",
       "      <th>repeated_guest</th>\n",
       "      <th>no_of_previous_cancellations</th>\n",
       "      <th>no_of_previous_bookings_not_canceled</th>\n",
       "      <th>avg_price_per_room</th>\n",
       "      <th>no_of_special_requests</th>\n",
       "      <th>booking_status</th>\n",
       "    </tr>\n",
       "  </thead>\n",
       "  <tbody>\n",
       "    <tr>\n",
       "      <th>0</th>\n",
       "      <td>INN00001</td>\n",
       "      <td>2</td>\n",
       "      <td>0</td>\n",
       "      <td>1</td>\n",
       "      <td>2</td>\n",
       "      <td>Meal Plan 1</td>\n",
       "      <td>0</td>\n",
       "      <td>Room_Type 1</td>\n",
       "      <td>224</td>\n",
       "      <td>2017</td>\n",
       "      <td>10</td>\n",
       "      <td>2</td>\n",
       "      <td>Offline</td>\n",
       "      <td>0</td>\n",
       "      <td>0</td>\n",
       "      <td>0</td>\n",
       "      <td>65.00</td>\n",
       "      <td>0</td>\n",
       "      <td>Not_Canceled</td>\n",
       "    </tr>\n",
       "    <tr>\n",
       "      <th>1</th>\n",
       "      <td>INN00002</td>\n",
       "      <td>2</td>\n",
       "      <td>0</td>\n",
       "      <td>2</td>\n",
       "      <td>3</td>\n",
       "      <td>Not Selected</td>\n",
       "      <td>0</td>\n",
       "      <td>Room_Type 1</td>\n",
       "      <td>5</td>\n",
       "      <td>2018</td>\n",
       "      <td>11</td>\n",
       "      <td>6</td>\n",
       "      <td>Online</td>\n",
       "      <td>0</td>\n",
       "      <td>0</td>\n",
       "      <td>0</td>\n",
       "      <td>106.68</td>\n",
       "      <td>1</td>\n",
       "      <td>Not_Canceled</td>\n",
       "    </tr>\n",
       "    <tr>\n",
       "      <th>2</th>\n",
       "      <td>INN00003</td>\n",
       "      <td>1</td>\n",
       "      <td>0</td>\n",
       "      <td>2</td>\n",
       "      <td>1</td>\n",
       "      <td>Meal Plan 1</td>\n",
       "      <td>0</td>\n",
       "      <td>Room_Type 1</td>\n",
       "      <td>1</td>\n",
       "      <td>2018</td>\n",
       "      <td>2</td>\n",
       "      <td>28</td>\n",
       "      <td>Online</td>\n",
       "      <td>0</td>\n",
       "      <td>0</td>\n",
       "      <td>0</td>\n",
       "      <td>60.00</td>\n",
       "      <td>0</td>\n",
       "      <td>Canceled</td>\n",
       "    </tr>\n",
       "    <tr>\n",
       "      <th>3</th>\n",
       "      <td>INN00004</td>\n",
       "      <td>2</td>\n",
       "      <td>0</td>\n",
       "      <td>0</td>\n",
       "      <td>2</td>\n",
       "      <td>Meal Plan 1</td>\n",
       "      <td>0</td>\n",
       "      <td>Room_Type 1</td>\n",
       "      <td>211</td>\n",
       "      <td>2018</td>\n",
       "      <td>5</td>\n",
       "      <td>20</td>\n",
       "      <td>Online</td>\n",
       "      <td>0</td>\n",
       "      <td>0</td>\n",
       "      <td>0</td>\n",
       "      <td>100.00</td>\n",
       "      <td>0</td>\n",
       "      <td>Canceled</td>\n",
       "    </tr>\n",
       "    <tr>\n",
       "      <th>4</th>\n",
       "      <td>INN00005</td>\n",
       "      <td>2</td>\n",
       "      <td>0</td>\n",
       "      <td>1</td>\n",
       "      <td>1</td>\n",
       "      <td>Not Selected</td>\n",
       "      <td>0</td>\n",
       "      <td>Room_Type 1</td>\n",
       "      <td>48</td>\n",
       "      <td>2018</td>\n",
       "      <td>4</td>\n",
       "      <td>11</td>\n",
       "      <td>Online</td>\n",
       "      <td>0</td>\n",
       "      <td>0</td>\n",
       "      <td>0</td>\n",
       "      <td>94.50</td>\n",
       "      <td>0</td>\n",
       "      <td>Canceled</td>\n",
       "    </tr>\n",
       "  </tbody>\n",
       "</table>\n",
       "</div>"
      ],
      "text/plain": [
       "  Booking_ID  no_of_adults  no_of_children  no_of_weekend_nights  \\\n",
       "0   INN00001             2               0                     1   \n",
       "1   INN00002             2               0                     2   \n",
       "2   INN00003             1               0                     2   \n",
       "3   INN00004             2               0                     0   \n",
       "4   INN00005             2               0                     1   \n",
       "\n",
       "   no_of_week_nights type_of_meal_plan  required_car_parking_space  \\\n",
       "0                  2       Meal Plan 1                           0   \n",
       "1                  3      Not Selected                           0   \n",
       "2                  1       Meal Plan 1                           0   \n",
       "3                  2       Meal Plan 1                           0   \n",
       "4                  1      Not Selected                           0   \n",
       "\n",
       "  room_type_reserved  lead_time  arrival_year  arrival_month  arrival_date  \\\n",
       "0        Room_Type 1        224          2017             10             2   \n",
       "1        Room_Type 1          5          2018             11             6   \n",
       "2        Room_Type 1          1          2018              2            28   \n",
       "3        Room_Type 1        211          2018              5            20   \n",
       "4        Room_Type 1         48          2018              4            11   \n",
       "\n",
       "  market_segment_type  repeated_guest  no_of_previous_cancellations  \\\n",
       "0             Offline               0                             0   \n",
       "1              Online               0                             0   \n",
       "2              Online               0                             0   \n",
       "3              Online               0                             0   \n",
       "4              Online               0                             0   \n",
       "\n",
       "   no_of_previous_bookings_not_canceled  avg_price_per_room  \\\n",
       "0                                     0               65.00   \n",
       "1                                     0              106.68   \n",
       "2                                     0               60.00   \n",
       "3                                     0              100.00   \n",
       "4                                     0               94.50   \n",
       "\n",
       "   no_of_special_requests booking_status  \n",
       "0                       0   Not_Canceled  \n",
       "1                       1   Not_Canceled  \n",
       "2                       0       Canceled  \n",
       "3                       0       Canceled  \n",
       "4                       0       Canceled  "
      ]
     },
     "execution_count": 4,
     "metadata": {},
     "output_type": "execute_result"
    }
   ],
   "source": [
    "data.head()"
   ]
  },
  {
   "cell_type": "code",
   "execution_count": 5,
   "id": "29087f37",
   "metadata": {
    "id": "demonstrated-charger",
    "outputId": "0771f554-108a-4473-c622-8135ad412e3f"
   },
   "outputs": [
    {
     "data": {
      "text/html": [
       "<div>\n",
       "<style scoped>\n",
       "    .dataframe tbody tr th:only-of-type {\n",
       "        vertical-align: middle;\n",
       "    }\n",
       "\n",
       "    .dataframe tbody tr th {\n",
       "        vertical-align: top;\n",
       "    }\n",
       "\n",
       "    .dataframe thead th {\n",
       "        text-align: right;\n",
       "    }\n",
       "</style>\n",
       "<table border=\"1\" class=\"dataframe\">\n",
       "  <thead>\n",
       "    <tr style=\"text-align: right;\">\n",
       "      <th></th>\n",
       "      <th>Booking_ID</th>\n",
       "      <th>no_of_adults</th>\n",
       "      <th>no_of_children</th>\n",
       "      <th>no_of_weekend_nights</th>\n",
       "      <th>no_of_week_nights</th>\n",
       "      <th>type_of_meal_plan</th>\n",
       "      <th>required_car_parking_space</th>\n",
       "      <th>room_type_reserved</th>\n",
       "      <th>lead_time</th>\n",
       "      <th>arrival_year</th>\n",
       "      <th>arrival_month</th>\n",
       "      <th>arrival_date</th>\n",
       "      <th>market_segment_type</th>\n",
       "      <th>repeated_guest</th>\n",
       "      <th>no_of_previous_cancellations</th>\n",
       "      <th>no_of_previous_bookings_not_canceled</th>\n",
       "      <th>avg_price_per_room</th>\n",
       "      <th>no_of_special_requests</th>\n",
       "      <th>booking_status</th>\n",
       "    </tr>\n",
       "  </thead>\n",
       "  <tbody>\n",
       "    <tr>\n",
       "      <th>36270</th>\n",
       "      <td>INN36271</td>\n",
       "      <td>3</td>\n",
       "      <td>0</td>\n",
       "      <td>2</td>\n",
       "      <td>6</td>\n",
       "      <td>Meal Plan 1</td>\n",
       "      <td>0</td>\n",
       "      <td>Room_Type 4</td>\n",
       "      <td>85</td>\n",
       "      <td>2018</td>\n",
       "      <td>8</td>\n",
       "      <td>3</td>\n",
       "      <td>Online</td>\n",
       "      <td>0</td>\n",
       "      <td>0</td>\n",
       "      <td>0</td>\n",
       "      <td>167.80</td>\n",
       "      <td>1</td>\n",
       "      <td>Not_Canceled</td>\n",
       "    </tr>\n",
       "    <tr>\n",
       "      <th>36271</th>\n",
       "      <td>INN36272</td>\n",
       "      <td>2</td>\n",
       "      <td>0</td>\n",
       "      <td>1</td>\n",
       "      <td>3</td>\n",
       "      <td>Meal Plan 1</td>\n",
       "      <td>0</td>\n",
       "      <td>Room_Type 1</td>\n",
       "      <td>228</td>\n",
       "      <td>2018</td>\n",
       "      <td>10</td>\n",
       "      <td>17</td>\n",
       "      <td>Online</td>\n",
       "      <td>0</td>\n",
       "      <td>0</td>\n",
       "      <td>0</td>\n",
       "      <td>90.95</td>\n",
       "      <td>2</td>\n",
       "      <td>Canceled</td>\n",
       "    </tr>\n",
       "    <tr>\n",
       "      <th>36272</th>\n",
       "      <td>INN36273</td>\n",
       "      <td>2</td>\n",
       "      <td>0</td>\n",
       "      <td>2</td>\n",
       "      <td>6</td>\n",
       "      <td>Meal Plan 1</td>\n",
       "      <td>0</td>\n",
       "      <td>Room_Type 1</td>\n",
       "      <td>148</td>\n",
       "      <td>2018</td>\n",
       "      <td>7</td>\n",
       "      <td>1</td>\n",
       "      <td>Online</td>\n",
       "      <td>0</td>\n",
       "      <td>0</td>\n",
       "      <td>0</td>\n",
       "      <td>98.39</td>\n",
       "      <td>2</td>\n",
       "      <td>Not_Canceled</td>\n",
       "    </tr>\n",
       "    <tr>\n",
       "      <th>36273</th>\n",
       "      <td>INN36274</td>\n",
       "      <td>2</td>\n",
       "      <td>0</td>\n",
       "      <td>0</td>\n",
       "      <td>3</td>\n",
       "      <td>Not Selected</td>\n",
       "      <td>0</td>\n",
       "      <td>Room_Type 1</td>\n",
       "      <td>63</td>\n",
       "      <td>2018</td>\n",
       "      <td>4</td>\n",
       "      <td>21</td>\n",
       "      <td>Online</td>\n",
       "      <td>0</td>\n",
       "      <td>0</td>\n",
       "      <td>0</td>\n",
       "      <td>94.50</td>\n",
       "      <td>0</td>\n",
       "      <td>Canceled</td>\n",
       "    </tr>\n",
       "    <tr>\n",
       "      <th>36274</th>\n",
       "      <td>INN36275</td>\n",
       "      <td>2</td>\n",
       "      <td>0</td>\n",
       "      <td>1</td>\n",
       "      <td>2</td>\n",
       "      <td>Meal Plan 1</td>\n",
       "      <td>0</td>\n",
       "      <td>Room_Type 1</td>\n",
       "      <td>207</td>\n",
       "      <td>2018</td>\n",
       "      <td>12</td>\n",
       "      <td>30</td>\n",
       "      <td>Offline</td>\n",
       "      <td>0</td>\n",
       "      <td>0</td>\n",
       "      <td>0</td>\n",
       "      <td>161.67</td>\n",
       "      <td>0</td>\n",
       "      <td>Not_Canceled</td>\n",
       "    </tr>\n",
       "  </tbody>\n",
       "</table>\n",
       "</div>"
      ],
      "text/plain": [
       "      Booking_ID  no_of_adults  no_of_children  no_of_weekend_nights  \\\n",
       "36270   INN36271             3               0                     2   \n",
       "36271   INN36272             2               0                     1   \n",
       "36272   INN36273             2               0                     2   \n",
       "36273   INN36274             2               0                     0   \n",
       "36274   INN36275             2               0                     1   \n",
       "\n",
       "       no_of_week_nights type_of_meal_plan  required_car_parking_space  \\\n",
       "36270                  6       Meal Plan 1                           0   \n",
       "36271                  3       Meal Plan 1                           0   \n",
       "36272                  6       Meal Plan 1                           0   \n",
       "36273                  3      Not Selected                           0   \n",
       "36274                  2       Meal Plan 1                           0   \n",
       "\n",
       "      room_type_reserved  lead_time  arrival_year  arrival_month  \\\n",
       "36270        Room_Type 4         85          2018              8   \n",
       "36271        Room_Type 1        228          2018             10   \n",
       "36272        Room_Type 1        148          2018              7   \n",
       "36273        Room_Type 1         63          2018              4   \n",
       "36274        Room_Type 1        207          2018             12   \n",
       "\n",
       "       arrival_date market_segment_type  repeated_guest  \\\n",
       "36270             3              Online               0   \n",
       "36271            17              Online               0   \n",
       "36272             1              Online               0   \n",
       "36273            21              Online               0   \n",
       "36274            30             Offline               0   \n",
       "\n",
       "       no_of_previous_cancellations  no_of_previous_bookings_not_canceled  \\\n",
       "36270                             0                                     0   \n",
       "36271                             0                                     0   \n",
       "36272                             0                                     0   \n",
       "36273                             0                                     0   \n",
       "36274                             0                                     0   \n",
       "\n",
       "       avg_price_per_room  no_of_special_requests booking_status  \n",
       "36270              167.80                       1   Not_Canceled  \n",
       "36271               90.95                       2       Canceled  \n",
       "36272               98.39                       2   Not_Canceled  \n",
       "36273               94.50                       0       Canceled  \n",
       "36274              161.67                       0   Not_Canceled  "
      ]
     },
     "execution_count": 5,
     "metadata": {},
     "output_type": "execute_result"
    }
   ],
   "source": [
    "data.tail()"
   ]
  },
  {
   "cell_type": "markdown",
   "id": "98d7f00a",
   "metadata": {
    "id": "creative-warner"
   },
   "source": [
    "#### Check the info of the data"
   ]
  },
  {
   "cell_type": "code",
   "execution_count": 6,
   "id": "b9b3f427",
   "metadata": {
    "id": "expanded-technique",
    "outputId": "a96250c8-79f8-4a28-d671-5849b398180a"
   },
   "outputs": [
    {
     "name": "stdout",
     "output_type": "stream",
     "text": [
      "<class 'pandas.core.frame.DataFrame'>\n",
      "RangeIndex: 36275 entries, 0 to 36274\n",
      "Data columns (total 19 columns):\n",
      " #   Column                                Non-Null Count  Dtype  \n",
      "---  ------                                --------------  -----  \n",
      " 0   Booking_ID                            36275 non-null  object \n",
      " 1   no_of_adults                          36275 non-null  int64  \n",
      " 2   no_of_children                        36275 non-null  int64  \n",
      " 3   no_of_weekend_nights                  36275 non-null  int64  \n",
      " 4   no_of_week_nights                     36275 non-null  int64  \n",
      " 5   type_of_meal_plan                     36275 non-null  object \n",
      " 6   required_car_parking_space            36275 non-null  int64  \n",
      " 7   room_type_reserved                    36275 non-null  object \n",
      " 8   lead_time                             36275 non-null  int64  \n",
      " 9   arrival_year                          36275 non-null  int64  \n",
      " 10  arrival_month                         36275 non-null  int64  \n",
      " 11  arrival_date                          36275 non-null  int64  \n",
      " 12  market_segment_type                   36275 non-null  object \n",
      " 13  repeated_guest                        36275 non-null  int64  \n",
      " 14  no_of_previous_cancellations          36275 non-null  int64  \n",
      " 15  no_of_previous_bookings_not_canceled  36275 non-null  int64  \n",
      " 16  avg_price_per_room                    36275 non-null  float64\n",
      " 17  no_of_special_requests                36275 non-null  int64  \n",
      " 18  booking_status                        36275 non-null  object \n",
      "dtypes: float64(1), int64(13), object(5)\n",
      "memory usage: 5.3+ MB\n"
     ]
    }
   ],
   "source": [
    "data.info()"
   ]
  },
  {
   "cell_type": "markdown",
   "id": "71ed4cd0",
   "metadata": {
    "id": "august-hopkins"
   },
   "source": [
    "* The dataset has **36,275 rows and 19 columns**. \n",
    "\n",
    "* `Booking_ID`, `type_of_meal_plan`, `room_type_reserved`, `market_segment_type`, and `booking_status` are of **object type** while rest columns are numeric in nature.\n",
    "\n",
    "* There are **no null values** in the dataset.\n",
    "\n",
    "* **Booking_ID column is an identifier**. Let's check if each entry of the column is unique."
   ]
  },
  {
   "cell_type": "code",
   "execution_count": 7,
   "id": "72fcf95e",
   "metadata": {},
   "outputs": [
    {
     "data": {
      "text/plain": [
       "36275"
      ]
     },
     "execution_count": 7,
     "metadata": {},
     "output_type": "execute_result"
    }
   ],
   "source": [
    "data.Booking_ID.nunique()"
   ]
  },
  {
   "cell_type": "markdown",
   "id": "7be42fc4",
   "metadata": {},
   "source": [
    "**Observations:**\n",
    "- We can see that **all the entries of this column are unique**. Hence, this column would not add any value to our analysis. \n",
    "- Let's drop this column."
   ]
  },
  {
   "cell_type": "markdown",
   "id": "702a3d75",
   "metadata": {},
   "source": [
    "#### Dropping the Booking_ID column"
   ]
  },
  {
   "cell_type": "code",
   "execution_count": 8,
   "id": "feeb6d9a",
   "metadata": {
    "id": "referenced-architect",
    "outputId": "eb67111f-ebae-433c-fc96-f7aeba9c1826"
   },
   "outputs": [],
   "source": [
    "data = data.drop([\"Booking_ID\"], axis=1)"
   ]
  },
  {
   "cell_type": "code",
   "execution_count": 9,
   "id": "ee345066",
   "metadata": {},
   "outputs": [
    {
     "data": {
      "text/html": [
       "<div>\n",
       "<style scoped>\n",
       "    .dataframe tbody tr th:only-of-type {\n",
       "        vertical-align: middle;\n",
       "    }\n",
       "\n",
       "    .dataframe tbody tr th {\n",
       "        vertical-align: top;\n",
       "    }\n",
       "\n",
       "    .dataframe thead th {\n",
       "        text-align: right;\n",
       "    }\n",
       "</style>\n",
       "<table border=\"1\" class=\"dataframe\">\n",
       "  <thead>\n",
       "    <tr style=\"text-align: right;\">\n",
       "      <th></th>\n",
       "      <th>no_of_adults</th>\n",
       "      <th>no_of_children</th>\n",
       "      <th>no_of_weekend_nights</th>\n",
       "      <th>no_of_week_nights</th>\n",
       "      <th>type_of_meal_plan</th>\n",
       "      <th>required_car_parking_space</th>\n",
       "      <th>room_type_reserved</th>\n",
       "      <th>lead_time</th>\n",
       "      <th>arrival_year</th>\n",
       "      <th>arrival_month</th>\n",
       "      <th>arrival_date</th>\n",
       "      <th>market_segment_type</th>\n",
       "      <th>repeated_guest</th>\n",
       "      <th>no_of_previous_cancellations</th>\n",
       "      <th>no_of_previous_bookings_not_canceled</th>\n",
       "      <th>avg_price_per_room</th>\n",
       "      <th>no_of_special_requests</th>\n",
       "      <th>booking_status</th>\n",
       "    </tr>\n",
       "  </thead>\n",
       "  <tbody>\n",
       "    <tr>\n",
       "      <th>0</th>\n",
       "      <td>2</td>\n",
       "      <td>0</td>\n",
       "      <td>1</td>\n",
       "      <td>2</td>\n",
       "      <td>Meal Plan 1</td>\n",
       "      <td>0</td>\n",
       "      <td>Room_Type 1</td>\n",
       "      <td>224</td>\n",
       "      <td>2017</td>\n",
       "      <td>10</td>\n",
       "      <td>2</td>\n",
       "      <td>Offline</td>\n",
       "      <td>0</td>\n",
       "      <td>0</td>\n",
       "      <td>0</td>\n",
       "      <td>65.00</td>\n",
       "      <td>0</td>\n",
       "      <td>Not_Canceled</td>\n",
       "    </tr>\n",
       "    <tr>\n",
       "      <th>1</th>\n",
       "      <td>2</td>\n",
       "      <td>0</td>\n",
       "      <td>2</td>\n",
       "      <td>3</td>\n",
       "      <td>Not Selected</td>\n",
       "      <td>0</td>\n",
       "      <td>Room_Type 1</td>\n",
       "      <td>5</td>\n",
       "      <td>2018</td>\n",
       "      <td>11</td>\n",
       "      <td>6</td>\n",
       "      <td>Online</td>\n",
       "      <td>0</td>\n",
       "      <td>0</td>\n",
       "      <td>0</td>\n",
       "      <td>106.68</td>\n",
       "      <td>1</td>\n",
       "      <td>Not_Canceled</td>\n",
       "    </tr>\n",
       "    <tr>\n",
       "      <th>2</th>\n",
       "      <td>1</td>\n",
       "      <td>0</td>\n",
       "      <td>2</td>\n",
       "      <td>1</td>\n",
       "      <td>Meal Plan 1</td>\n",
       "      <td>0</td>\n",
       "      <td>Room_Type 1</td>\n",
       "      <td>1</td>\n",
       "      <td>2018</td>\n",
       "      <td>2</td>\n",
       "      <td>28</td>\n",
       "      <td>Online</td>\n",
       "      <td>0</td>\n",
       "      <td>0</td>\n",
       "      <td>0</td>\n",
       "      <td>60.00</td>\n",
       "      <td>0</td>\n",
       "      <td>Canceled</td>\n",
       "    </tr>\n",
       "    <tr>\n",
       "      <th>3</th>\n",
       "      <td>2</td>\n",
       "      <td>0</td>\n",
       "      <td>0</td>\n",
       "      <td>2</td>\n",
       "      <td>Meal Plan 1</td>\n",
       "      <td>0</td>\n",
       "      <td>Room_Type 1</td>\n",
       "      <td>211</td>\n",
       "      <td>2018</td>\n",
       "      <td>5</td>\n",
       "      <td>20</td>\n",
       "      <td>Online</td>\n",
       "      <td>0</td>\n",
       "      <td>0</td>\n",
       "      <td>0</td>\n",
       "      <td>100.00</td>\n",
       "      <td>0</td>\n",
       "      <td>Canceled</td>\n",
       "    </tr>\n",
       "    <tr>\n",
       "      <th>4</th>\n",
       "      <td>2</td>\n",
       "      <td>0</td>\n",
       "      <td>1</td>\n",
       "      <td>1</td>\n",
       "      <td>Not Selected</td>\n",
       "      <td>0</td>\n",
       "      <td>Room_Type 1</td>\n",
       "      <td>48</td>\n",
       "      <td>2018</td>\n",
       "      <td>4</td>\n",
       "      <td>11</td>\n",
       "      <td>Online</td>\n",
       "      <td>0</td>\n",
       "      <td>0</td>\n",
       "      <td>0</td>\n",
       "      <td>94.50</td>\n",
       "      <td>0</td>\n",
       "      <td>Canceled</td>\n",
       "    </tr>\n",
       "  </tbody>\n",
       "</table>\n",
       "</div>"
      ],
      "text/plain": [
       "   no_of_adults  no_of_children  no_of_weekend_nights  no_of_week_nights  \\\n",
       "0             2               0                     1                  2   \n",
       "1             2               0                     2                  3   \n",
       "2             1               0                     2                  1   \n",
       "3             2               0                     0                  2   \n",
       "4             2               0                     1                  1   \n",
       "\n",
       "  type_of_meal_plan  required_car_parking_space room_type_reserved  lead_time  \\\n",
       "0       Meal Plan 1                           0        Room_Type 1        224   \n",
       "1      Not Selected                           0        Room_Type 1          5   \n",
       "2       Meal Plan 1                           0        Room_Type 1          1   \n",
       "3       Meal Plan 1                           0        Room_Type 1        211   \n",
       "4      Not Selected                           0        Room_Type 1         48   \n",
       "\n",
       "   arrival_year  arrival_month  arrival_date market_segment_type  \\\n",
       "0          2017             10             2             Offline   \n",
       "1          2018             11             6              Online   \n",
       "2          2018              2            28              Online   \n",
       "3          2018              5            20              Online   \n",
       "4          2018              4            11              Online   \n",
       "\n",
       "   repeated_guest  no_of_previous_cancellations  \\\n",
       "0               0                             0   \n",
       "1               0                             0   \n",
       "2               0                             0   \n",
       "3               0                             0   \n",
       "4               0                             0   \n",
       "\n",
       "   no_of_previous_bookings_not_canceled  avg_price_per_room  \\\n",
       "0                                     0               65.00   \n",
       "1                                     0              106.68   \n",
       "2                                     0               60.00   \n",
       "3                                     0              100.00   \n",
       "4                                     0               94.50   \n",
       "\n",
       "   no_of_special_requests booking_status  \n",
       "0                       0   Not_Canceled  \n",
       "1                       1   Not_Canceled  \n",
       "2                       0       Canceled  \n",
       "3                       0       Canceled  \n",
       "4                       0       Canceled  "
      ]
     },
     "execution_count": 9,
     "metadata": {},
     "output_type": "execute_result"
    }
   ],
   "source": [
    "data.head()"
   ]
  },
  {
   "cell_type": "markdown",
   "id": "29df4ffc",
   "metadata": {
    "id": "realistic-mortgage"
   },
   "source": [
    "## Exploratory Data Analysis"
   ]
  },
  {
   "cell_type": "markdown",
   "id": "105d6990",
   "metadata": {
    "id": "seeing-newman"
   },
   "source": [
    "#### Summary Statistics for numerical columns"
   ]
  },
  {
   "cell_type": "markdown",
   "id": "2aa8f0a0",
   "metadata": {},
   "source": [
    "#### Question 1: Write the observations from the below summary statistics (2 Marks)"
   ]
  },
  {
   "cell_type": "code",
   "execution_count": 10,
   "id": "9ef5b666",
   "metadata": {},
   "outputs": [
    {
     "data": {
      "text/html": [
       "<div>\n",
       "<style scoped>\n",
       "    .dataframe tbody tr th:only-of-type {\n",
       "        vertical-align: middle;\n",
       "    }\n",
       "\n",
       "    .dataframe tbody tr th {\n",
       "        vertical-align: top;\n",
       "    }\n",
       "\n",
       "    .dataframe thead th {\n",
       "        text-align: right;\n",
       "    }\n",
       "</style>\n",
       "<table border=\"1\" class=\"dataframe\">\n",
       "  <thead>\n",
       "    <tr style=\"text-align: right;\">\n",
       "      <th></th>\n",
       "      <th>count</th>\n",
       "      <th>mean</th>\n",
       "      <th>std</th>\n",
       "      <th>min</th>\n",
       "      <th>25%</th>\n",
       "      <th>50%</th>\n",
       "      <th>75%</th>\n",
       "      <th>max</th>\n",
       "    </tr>\n",
       "  </thead>\n",
       "  <tbody>\n",
       "    <tr>\n",
       "      <th>no_of_adults</th>\n",
       "      <td>36275.0</td>\n",
       "      <td>1.844962</td>\n",
       "      <td>0.518715</td>\n",
       "      <td>0.0</td>\n",
       "      <td>2.0</td>\n",
       "      <td>2.00</td>\n",
       "      <td>2.0</td>\n",
       "      <td>4.0</td>\n",
       "    </tr>\n",
       "    <tr>\n",
       "      <th>no_of_children</th>\n",
       "      <td>36275.0</td>\n",
       "      <td>0.105279</td>\n",
       "      <td>0.402648</td>\n",
       "      <td>0.0</td>\n",
       "      <td>0.0</td>\n",
       "      <td>0.00</td>\n",
       "      <td>0.0</td>\n",
       "      <td>10.0</td>\n",
       "    </tr>\n",
       "    <tr>\n",
       "      <th>no_of_weekend_nights</th>\n",
       "      <td>36275.0</td>\n",
       "      <td>0.810724</td>\n",
       "      <td>0.870644</td>\n",
       "      <td>0.0</td>\n",
       "      <td>0.0</td>\n",
       "      <td>1.00</td>\n",
       "      <td>2.0</td>\n",
       "      <td>7.0</td>\n",
       "    </tr>\n",
       "    <tr>\n",
       "      <th>no_of_week_nights</th>\n",
       "      <td>36275.0</td>\n",
       "      <td>2.204300</td>\n",
       "      <td>1.410905</td>\n",
       "      <td>0.0</td>\n",
       "      <td>1.0</td>\n",
       "      <td>2.00</td>\n",
       "      <td>3.0</td>\n",
       "      <td>17.0</td>\n",
       "    </tr>\n",
       "    <tr>\n",
       "      <th>required_car_parking_space</th>\n",
       "      <td>36275.0</td>\n",
       "      <td>0.030986</td>\n",
       "      <td>0.173281</td>\n",
       "      <td>0.0</td>\n",
       "      <td>0.0</td>\n",
       "      <td>0.00</td>\n",
       "      <td>0.0</td>\n",
       "      <td>1.0</td>\n",
       "    </tr>\n",
       "    <tr>\n",
       "      <th>lead_time</th>\n",
       "      <td>36275.0</td>\n",
       "      <td>85.232557</td>\n",
       "      <td>85.930817</td>\n",
       "      <td>0.0</td>\n",
       "      <td>17.0</td>\n",
       "      <td>57.00</td>\n",
       "      <td>126.0</td>\n",
       "      <td>443.0</td>\n",
       "    </tr>\n",
       "    <tr>\n",
       "      <th>arrival_year</th>\n",
       "      <td>36275.0</td>\n",
       "      <td>2017.820427</td>\n",
       "      <td>0.383836</td>\n",
       "      <td>2017.0</td>\n",
       "      <td>2018.0</td>\n",
       "      <td>2018.00</td>\n",
       "      <td>2018.0</td>\n",
       "      <td>2018.0</td>\n",
       "    </tr>\n",
       "    <tr>\n",
       "      <th>arrival_month</th>\n",
       "      <td>36275.0</td>\n",
       "      <td>7.423653</td>\n",
       "      <td>3.069894</td>\n",
       "      <td>1.0</td>\n",
       "      <td>5.0</td>\n",
       "      <td>8.00</td>\n",
       "      <td>10.0</td>\n",
       "      <td>12.0</td>\n",
       "    </tr>\n",
       "    <tr>\n",
       "      <th>arrival_date</th>\n",
       "      <td>36275.0</td>\n",
       "      <td>15.596995</td>\n",
       "      <td>8.740447</td>\n",
       "      <td>1.0</td>\n",
       "      <td>8.0</td>\n",
       "      <td>16.00</td>\n",
       "      <td>23.0</td>\n",
       "      <td>31.0</td>\n",
       "    </tr>\n",
       "    <tr>\n",
       "      <th>repeated_guest</th>\n",
       "      <td>36275.0</td>\n",
       "      <td>0.025637</td>\n",
       "      <td>0.158053</td>\n",
       "      <td>0.0</td>\n",
       "      <td>0.0</td>\n",
       "      <td>0.00</td>\n",
       "      <td>0.0</td>\n",
       "      <td>1.0</td>\n",
       "    </tr>\n",
       "    <tr>\n",
       "      <th>no_of_previous_cancellations</th>\n",
       "      <td>36275.0</td>\n",
       "      <td>0.023349</td>\n",
       "      <td>0.368331</td>\n",
       "      <td>0.0</td>\n",
       "      <td>0.0</td>\n",
       "      <td>0.00</td>\n",
       "      <td>0.0</td>\n",
       "      <td>13.0</td>\n",
       "    </tr>\n",
       "    <tr>\n",
       "      <th>no_of_previous_bookings_not_canceled</th>\n",
       "      <td>36275.0</td>\n",
       "      <td>0.153411</td>\n",
       "      <td>1.754171</td>\n",
       "      <td>0.0</td>\n",
       "      <td>0.0</td>\n",
       "      <td>0.00</td>\n",
       "      <td>0.0</td>\n",
       "      <td>58.0</td>\n",
       "    </tr>\n",
       "    <tr>\n",
       "      <th>avg_price_per_room</th>\n",
       "      <td>36275.0</td>\n",
       "      <td>103.423539</td>\n",
       "      <td>35.089424</td>\n",
       "      <td>0.0</td>\n",
       "      <td>80.3</td>\n",
       "      <td>99.45</td>\n",
       "      <td>120.0</td>\n",
       "      <td>540.0</td>\n",
       "    </tr>\n",
       "    <tr>\n",
       "      <th>no_of_special_requests</th>\n",
       "      <td>36275.0</td>\n",
       "      <td>0.619655</td>\n",
       "      <td>0.786236</td>\n",
       "      <td>0.0</td>\n",
       "      <td>0.0</td>\n",
       "      <td>0.00</td>\n",
       "      <td>1.0</td>\n",
       "      <td>5.0</td>\n",
       "    </tr>\n",
       "  </tbody>\n",
       "</table>\n",
       "</div>"
      ],
      "text/plain": [
       "                                        count         mean        std     min  \\\n",
       "no_of_adults                          36275.0     1.844962   0.518715     0.0   \n",
       "no_of_children                        36275.0     0.105279   0.402648     0.0   \n",
       "no_of_weekend_nights                  36275.0     0.810724   0.870644     0.0   \n",
       "no_of_week_nights                     36275.0     2.204300   1.410905     0.0   \n",
       "required_car_parking_space            36275.0     0.030986   0.173281     0.0   \n",
       "lead_time                             36275.0    85.232557  85.930817     0.0   \n",
       "arrival_year                          36275.0  2017.820427   0.383836  2017.0   \n",
       "arrival_month                         36275.0     7.423653   3.069894     1.0   \n",
       "arrival_date                          36275.0    15.596995   8.740447     1.0   \n",
       "repeated_guest                        36275.0     0.025637   0.158053     0.0   \n",
       "no_of_previous_cancellations          36275.0     0.023349   0.368331     0.0   \n",
       "no_of_previous_bookings_not_canceled  36275.0     0.153411   1.754171     0.0   \n",
       "avg_price_per_room                    36275.0   103.423539  35.089424     0.0   \n",
       "no_of_special_requests                36275.0     0.619655   0.786236     0.0   \n",
       "\n",
       "                                         25%      50%     75%     max  \n",
       "no_of_adults                             2.0     2.00     2.0     4.0  \n",
       "no_of_children                           0.0     0.00     0.0    10.0  \n",
       "no_of_weekend_nights                     0.0     1.00     2.0     7.0  \n",
       "no_of_week_nights                        1.0     2.00     3.0    17.0  \n",
       "required_car_parking_space               0.0     0.00     0.0     1.0  \n",
       "lead_time                               17.0    57.00   126.0   443.0  \n",
       "arrival_year                          2018.0  2018.00  2018.0  2018.0  \n",
       "arrival_month                            5.0     8.00    10.0    12.0  \n",
       "arrival_date                             8.0    16.00    23.0    31.0  \n",
       "repeated_guest                           0.0     0.00     0.0     1.0  \n",
       "no_of_previous_cancellations             0.0     0.00     0.0    13.0  \n",
       "no_of_previous_bookings_not_canceled     0.0     0.00     0.0    58.0  \n",
       "avg_price_per_room                      80.3    99.45   120.0   540.0  \n",
       "no_of_special_requests                   0.0     0.00     1.0     5.0  "
      ]
     },
     "execution_count": 10,
     "metadata": {},
     "output_type": "execute_result"
    }
   ],
   "source": [
    "#Selecting numerical columns and checking summary statistics\n",
    "num_cols = data.select_dtypes('number').columns\n",
    "\n",
    "data[num_cols].describe().T"
   ]
  },
  {
   "cell_type": "markdown",
   "id": "a17757f5",
   "metadata": {},
   "source": [
    "**Observations:**\n",
    "- The vast majority of adults seem to come in pairs (2 adults), could be couples.\n",
    "    - Few outliers with 4 adults and 0 adults minimum. If the 0 adult minimum means only children booked, that could be an error or a hotel which allows children to book without adults.\n",
    "- Children behaves very differently from adults. The vast majority of bookings have 0 children. From the minimum all the way to the 75th percentile.\n",
    "    - There's a huge outlier with 10 children. This affects the std deviation.\n",
    "- Number of weekend nights has an interesting behaviour:\n",
    "    - The bottom 25% of bookings do not have a single weekend night booked. The mean is close to 1 weekend night, 75th percentile is at 2 weekend nights.\n",
    "    - However, the std deviation is 0.87. There's an outlier that booked 10 weekend nights, the outliers in this column probably affect this statistics.\n",
    "- Number of week nights behaves very similarly:\n",
    "    - There's outliers going all the way to 17 week nights which probably heavily affect the statistics like std.\n",
    "    - On average, bookings have 2 week nights. 75th percentile is 3, 25th is 1. A small IQR. Minimum is 0 as expected, and then some very high outliers at the top.\n",
    "- Required parking space is a binary variable. Most bookings, atleast up to the 75th percentile, do not require parking space. This is represented by the mean, which is very close to 0 (0.03).\n",
    "- Lead time has a very wide range. From 0 at the minimum, to 443 days at maximum.\n",
    "    - This high value at the top is an outlier, clients booking 443 days before their arrival is an exception, not the norm.\n",
    "    - There's a lot of very high values, as the 75th percentile is clients booking 126 days before. \n",
    "        - These very high values heavily affect the mean and standard deviation (over 85 days each). On average, clients book nearly 3 months before arriving.\n",
    "- Arrival year, month and date show that the data is relatively new:\n",
    "    - All recorded values are between 2017 and 2018.\n",
    "    - The monthly mean is August. The IQR is between May and October.\n",
    "    - The daily mean makes sense, it is right in the middle of the month (16th).\n",
    "- Repeated guest is a binary variable which lets us know if a guest is revisiting. Most guests are new, atleast up to the 75th percentile.\n",
    "- Most bookings do not have previous cancellations (up to the 75th percentile). However, there are outliers of up to 13 previous cancellations.\n",
    "- On the other hand, most clients do not have previous bookings not cancelled. Again, most clients seem to be new. There are some outliers with up to 58 not cancelled bookings.\n",
    "- The average price per room per day has a wide range, from a minimum of  0 (which could be a mistake or special promotion) up to 540.\n",
    "    - These extreme values on minimum and maximum seem to be outliers, as they are very separated from the 25th, 50th and 75th percentiles.\n",
    "    - Having an average price of 0 on a day could either be a mistake or special cases. Should be explored in more detail.\n",
    "    - The extremely high outliers could be explained due to the dynamic nature, maybe attributed to high demand seasons.\n",
    "- Number of special request made by costumers is mostly 0. Only the 75th percentile has 1 special request, with a maximum of 5. Most clients do not make special requests."
   ]
  },
  {
   "cell_type": "code",
   "execution_count": 11,
   "id": "86cbeb39",
   "metadata": {},
   "outputs": [
    {
     "data": {
      "text/html": [
       "<div>\n",
       "<style scoped>\n",
       "    .dataframe tbody tr th:only-of-type {\n",
       "        vertical-align: middle;\n",
       "    }\n",
       "\n",
       "    .dataframe tbody tr th {\n",
       "        vertical-align: top;\n",
       "    }\n",
       "\n",
       "    .dataframe thead th {\n",
       "        text-align: right;\n",
       "    }\n",
       "</style>\n",
       "<table border=\"1\" class=\"dataframe\">\n",
       "  <thead>\n",
       "    <tr style=\"text-align: right;\">\n",
       "      <th></th>\n",
       "      <th>no_of_adults</th>\n",
       "      <th>no_of_children</th>\n",
       "      <th>no_of_weekend_nights</th>\n",
       "      <th>no_of_week_nights</th>\n",
       "      <th>type_of_meal_plan</th>\n",
       "      <th>required_car_parking_space</th>\n",
       "      <th>room_type_reserved</th>\n",
       "      <th>lead_time</th>\n",
       "      <th>arrival_year</th>\n",
       "      <th>arrival_month</th>\n",
       "      <th>arrival_date</th>\n",
       "      <th>market_segment_type</th>\n",
       "      <th>repeated_guest</th>\n",
       "      <th>no_of_previous_cancellations</th>\n",
       "      <th>no_of_previous_bookings_not_canceled</th>\n",
       "      <th>avg_price_per_room</th>\n",
       "      <th>no_of_special_requests</th>\n",
       "      <th>booking_status</th>\n",
       "    </tr>\n",
       "  </thead>\n",
       "  <tbody>\n",
       "    <tr>\n",
       "      <th>63</th>\n",
       "      <td>1</td>\n",
       "      <td>0</td>\n",
       "      <td>0</td>\n",
       "      <td>1</td>\n",
       "      <td>Meal Plan 1</td>\n",
       "      <td>0</td>\n",
       "      <td>Room_Type 1</td>\n",
       "      <td>2</td>\n",
       "      <td>2017</td>\n",
       "      <td>9</td>\n",
       "      <td>10</td>\n",
       "      <td>Complementary</td>\n",
       "      <td>0</td>\n",
       "      <td>0</td>\n",
       "      <td>0</td>\n",
       "      <td>0.0</td>\n",
       "      <td>1</td>\n",
       "      <td>Not_Canceled</td>\n",
       "    </tr>\n",
       "    <tr>\n",
       "      <th>145</th>\n",
       "      <td>1</td>\n",
       "      <td>0</td>\n",
       "      <td>0</td>\n",
       "      <td>2</td>\n",
       "      <td>Meal Plan 1</td>\n",
       "      <td>0</td>\n",
       "      <td>Room_Type 1</td>\n",
       "      <td>13</td>\n",
       "      <td>2018</td>\n",
       "      <td>6</td>\n",
       "      <td>1</td>\n",
       "      <td>Complementary</td>\n",
       "      <td>1</td>\n",
       "      <td>3</td>\n",
       "      <td>5</td>\n",
       "      <td>0.0</td>\n",
       "      <td>1</td>\n",
       "      <td>Not_Canceled</td>\n",
       "    </tr>\n",
       "    <tr>\n",
       "      <th>209</th>\n",
       "      <td>1</td>\n",
       "      <td>0</td>\n",
       "      <td>0</td>\n",
       "      <td>0</td>\n",
       "      <td>Meal Plan 1</td>\n",
       "      <td>0</td>\n",
       "      <td>Room_Type 1</td>\n",
       "      <td>4</td>\n",
       "      <td>2018</td>\n",
       "      <td>2</td>\n",
       "      <td>27</td>\n",
       "      <td>Complementary</td>\n",
       "      <td>0</td>\n",
       "      <td>0</td>\n",
       "      <td>0</td>\n",
       "      <td>0.0</td>\n",
       "      <td>1</td>\n",
       "      <td>Not_Canceled</td>\n",
       "    </tr>\n",
       "    <tr>\n",
       "      <th>266</th>\n",
       "      <td>1</td>\n",
       "      <td>0</td>\n",
       "      <td>0</td>\n",
       "      <td>2</td>\n",
       "      <td>Meal Plan 1</td>\n",
       "      <td>0</td>\n",
       "      <td>Room_Type 1</td>\n",
       "      <td>1</td>\n",
       "      <td>2017</td>\n",
       "      <td>8</td>\n",
       "      <td>12</td>\n",
       "      <td>Complementary</td>\n",
       "      <td>1</td>\n",
       "      <td>0</td>\n",
       "      <td>1</td>\n",
       "      <td>0.0</td>\n",
       "      <td>1</td>\n",
       "      <td>Not_Canceled</td>\n",
       "    </tr>\n",
       "    <tr>\n",
       "      <th>267</th>\n",
       "      <td>1</td>\n",
       "      <td>0</td>\n",
       "      <td>2</td>\n",
       "      <td>1</td>\n",
       "      <td>Meal Plan 1</td>\n",
       "      <td>0</td>\n",
       "      <td>Room_Type 1</td>\n",
       "      <td>4</td>\n",
       "      <td>2017</td>\n",
       "      <td>8</td>\n",
       "      <td>23</td>\n",
       "      <td>Complementary</td>\n",
       "      <td>0</td>\n",
       "      <td>0</td>\n",
       "      <td>0</td>\n",
       "      <td>0.0</td>\n",
       "      <td>1</td>\n",
       "      <td>Not_Canceled</td>\n",
       "    </tr>\n",
       "    <tr>\n",
       "      <th>...</th>\n",
       "      <td>...</td>\n",
       "      <td>...</td>\n",
       "      <td>...</td>\n",
       "      <td>...</td>\n",
       "      <td>...</td>\n",
       "      <td>...</td>\n",
       "      <td>...</td>\n",
       "      <td>...</td>\n",
       "      <td>...</td>\n",
       "      <td>...</td>\n",
       "      <td>...</td>\n",
       "      <td>...</td>\n",
       "      <td>...</td>\n",
       "      <td>...</td>\n",
       "      <td>...</td>\n",
       "      <td>...</td>\n",
       "      <td>...</td>\n",
       "      <td>...</td>\n",
       "    </tr>\n",
       "    <tr>\n",
       "      <th>35983</th>\n",
       "      <td>1</td>\n",
       "      <td>0</td>\n",
       "      <td>0</td>\n",
       "      <td>1</td>\n",
       "      <td>Meal Plan 1</td>\n",
       "      <td>0</td>\n",
       "      <td>Room_Type 7</td>\n",
       "      <td>0</td>\n",
       "      <td>2018</td>\n",
       "      <td>6</td>\n",
       "      <td>7</td>\n",
       "      <td>Complementary</td>\n",
       "      <td>1</td>\n",
       "      <td>4</td>\n",
       "      <td>17</td>\n",
       "      <td>0.0</td>\n",
       "      <td>1</td>\n",
       "      <td>Not_Canceled</td>\n",
       "    </tr>\n",
       "    <tr>\n",
       "      <th>36080</th>\n",
       "      <td>1</td>\n",
       "      <td>0</td>\n",
       "      <td>1</td>\n",
       "      <td>1</td>\n",
       "      <td>Meal Plan 1</td>\n",
       "      <td>0</td>\n",
       "      <td>Room_Type 7</td>\n",
       "      <td>0</td>\n",
       "      <td>2018</td>\n",
       "      <td>3</td>\n",
       "      <td>21</td>\n",
       "      <td>Complementary</td>\n",
       "      <td>1</td>\n",
       "      <td>3</td>\n",
       "      <td>15</td>\n",
       "      <td>0.0</td>\n",
       "      <td>1</td>\n",
       "      <td>Not_Canceled</td>\n",
       "    </tr>\n",
       "    <tr>\n",
       "      <th>36114</th>\n",
       "      <td>1</td>\n",
       "      <td>0</td>\n",
       "      <td>0</td>\n",
       "      <td>1</td>\n",
       "      <td>Meal Plan 1</td>\n",
       "      <td>0</td>\n",
       "      <td>Room_Type 1</td>\n",
       "      <td>1</td>\n",
       "      <td>2018</td>\n",
       "      <td>3</td>\n",
       "      <td>2</td>\n",
       "      <td>Online</td>\n",
       "      <td>0</td>\n",
       "      <td>0</td>\n",
       "      <td>0</td>\n",
       "      <td>0.0</td>\n",
       "      <td>0</td>\n",
       "      <td>Not_Canceled</td>\n",
       "    </tr>\n",
       "    <tr>\n",
       "      <th>36217</th>\n",
       "      <td>2</td>\n",
       "      <td>0</td>\n",
       "      <td>2</td>\n",
       "      <td>1</td>\n",
       "      <td>Meal Plan 1</td>\n",
       "      <td>0</td>\n",
       "      <td>Room_Type 2</td>\n",
       "      <td>3</td>\n",
       "      <td>2017</td>\n",
       "      <td>8</td>\n",
       "      <td>9</td>\n",
       "      <td>Online</td>\n",
       "      <td>0</td>\n",
       "      <td>0</td>\n",
       "      <td>0</td>\n",
       "      <td>0.0</td>\n",
       "      <td>2</td>\n",
       "      <td>Not_Canceled</td>\n",
       "    </tr>\n",
       "    <tr>\n",
       "      <th>36250</th>\n",
       "      <td>1</td>\n",
       "      <td>0</td>\n",
       "      <td>0</td>\n",
       "      <td>2</td>\n",
       "      <td>Meal Plan 2</td>\n",
       "      <td>0</td>\n",
       "      <td>Room_Type 1</td>\n",
       "      <td>6</td>\n",
       "      <td>2017</td>\n",
       "      <td>12</td>\n",
       "      <td>10</td>\n",
       "      <td>Online</td>\n",
       "      <td>0</td>\n",
       "      <td>0</td>\n",
       "      <td>0</td>\n",
       "      <td>0.0</td>\n",
       "      <td>0</td>\n",
       "      <td>Not_Canceled</td>\n",
       "    </tr>\n",
       "  </tbody>\n",
       "</table>\n",
       "<p>545 rows × 18 columns</p>\n",
       "</div>"
      ],
      "text/plain": [
       "       no_of_adults  no_of_children  no_of_weekend_nights  no_of_week_nights  \\\n",
       "63                1               0                     0                  1   \n",
       "145               1               0                     0                  2   \n",
       "209               1               0                     0                  0   \n",
       "266               1               0                     0                  2   \n",
       "267               1               0                     2                  1   \n",
       "...             ...             ...                   ...                ...   \n",
       "35983             1               0                     0                  1   \n",
       "36080             1               0                     1                  1   \n",
       "36114             1               0                     0                  1   \n",
       "36217             2               0                     2                  1   \n",
       "36250             1               0                     0                  2   \n",
       "\n",
       "      type_of_meal_plan  required_car_parking_space room_type_reserved  \\\n",
       "63          Meal Plan 1                           0        Room_Type 1   \n",
       "145         Meal Plan 1                           0        Room_Type 1   \n",
       "209         Meal Plan 1                           0        Room_Type 1   \n",
       "266         Meal Plan 1                           0        Room_Type 1   \n",
       "267         Meal Plan 1                           0        Room_Type 1   \n",
       "...                 ...                         ...                ...   \n",
       "35983       Meal Plan 1                           0        Room_Type 7   \n",
       "36080       Meal Plan 1                           0        Room_Type 7   \n",
       "36114       Meal Plan 1                           0        Room_Type 1   \n",
       "36217       Meal Plan 1                           0        Room_Type 2   \n",
       "36250       Meal Plan 2                           0        Room_Type 1   \n",
       "\n",
       "       lead_time  arrival_year  arrival_month  arrival_date  \\\n",
       "63             2          2017              9            10   \n",
       "145           13          2018              6             1   \n",
       "209            4          2018              2            27   \n",
       "266            1          2017              8            12   \n",
       "267            4          2017              8            23   \n",
       "...          ...           ...            ...           ...   \n",
       "35983          0          2018              6             7   \n",
       "36080          0          2018              3            21   \n",
       "36114          1          2018              3             2   \n",
       "36217          3          2017              8             9   \n",
       "36250          6          2017             12            10   \n",
       "\n",
       "      market_segment_type  repeated_guest  no_of_previous_cancellations  \\\n",
       "63          Complementary               0                             0   \n",
       "145         Complementary               1                             3   \n",
       "209         Complementary               0                             0   \n",
       "266         Complementary               1                             0   \n",
       "267         Complementary               0                             0   \n",
       "...                   ...             ...                           ...   \n",
       "35983       Complementary               1                             4   \n",
       "36080       Complementary               1                             3   \n",
       "36114              Online               0                             0   \n",
       "36217              Online               0                             0   \n",
       "36250              Online               0                             0   \n",
       "\n",
       "       no_of_previous_bookings_not_canceled  avg_price_per_room  \\\n",
       "63                                        0                 0.0   \n",
       "145                                       5                 0.0   \n",
       "209                                       0                 0.0   \n",
       "266                                       1                 0.0   \n",
       "267                                       0                 0.0   \n",
       "...                                     ...                 ...   \n",
       "35983                                    17                 0.0   \n",
       "36080                                    15                 0.0   \n",
       "36114                                     0                 0.0   \n",
       "36217                                     0                 0.0   \n",
       "36250                                     0                 0.0   \n",
       "\n",
       "       no_of_special_requests booking_status  \n",
       "63                          1   Not_Canceled  \n",
       "145                         1   Not_Canceled  \n",
       "209                         1   Not_Canceled  \n",
       "266                         1   Not_Canceled  \n",
       "267                         1   Not_Canceled  \n",
       "...                       ...            ...  \n",
       "35983                       1   Not_Canceled  \n",
       "36080                       1   Not_Canceled  \n",
       "36114                       0   Not_Canceled  \n",
       "36217                       2   Not_Canceled  \n",
       "36250                       0   Not_Canceled  \n",
       "\n",
       "[545 rows x 18 columns]"
      ]
     },
     "execution_count": 11,
     "metadata": {},
     "output_type": "execute_result"
    }
   ],
   "source": [
    "#Checking the rows where avg_price_per_room is 0\n",
    "data[data[\"avg_price_per_room\"] == 0]"
   ]
  },
  {
   "cell_type": "markdown",
   "id": "4cb77845",
   "metadata": {},
   "source": [
    "- In the market segment column, it looks like **many values are complementary**. Let's check the market segment where the room prices are equal to 0."
   ]
  },
  {
   "cell_type": "code",
   "execution_count": 12,
   "id": "5b61e60f",
   "metadata": {},
   "outputs": [
    {
     "data": {
      "text/plain": [
       "Complementary    354\n",
       "Online           191\n",
       "Name: market_segment_type, dtype: int64"
      ]
     },
     "execution_count": 12,
     "metadata": {},
     "output_type": "execute_result"
    }
   ],
   "source": [
    "data.loc[data[\"avg_price_per_room\"] == 0, \"market_segment_type\"].value_counts()"
   ]
  },
  {
   "cell_type": "markdown",
   "id": "11a106d8",
   "metadata": {},
   "source": [
    "* It makes sense that most values with room prices equal to 0 are the rooms given as complimentary service given by the hotel.\n",
    "* The rooms booked online might be a part of some promotional campaign done by the hotel. We will not treat these rows as we don't have the data to test this claim."
   ]
  },
  {
   "cell_type": "markdown",
   "id": "29ca10f1",
   "metadata": {},
   "source": [
    "#### Check the distribution and outliers for some columns in the data"
   ]
  },
  {
   "cell_type": "code",
   "execution_count": 13,
   "id": "4d71be22",
   "metadata": {
    "scrolled": false
   },
   "outputs": [
    {
     "name": "stdout",
     "output_type": "stream",
     "text": [
      "lead_time\n",
      "Skew : 1.29\n"
     ]
    },
    {
     "data": {
      "image/png": "[encoded data removed]",
      "text/plain": [
       "<Figure size 1080x288 with 2 Axes>"
      ]
     },
     "metadata": {
      "needs_background": "light"
     },
     "output_type": "display_data"
    },
    {
     "name": "stdout",
     "output_type": "stream",
     "text": [
      "no_of_previous_cancellations\n",
      "Skew : 25.2\n"
     ]
    },
    {
     "data": {
      "image/png": "[encoded data removed]",
      "text/plain": [
       "<Figure size 1080x288 with 2 Axes>"
      ]
     },
     "metadata": {
      "needs_background": "light"
     },
     "output_type": "display_data"
    },
    {
     "name": "stdout",
     "output_type": "stream",
     "text": [
      "no_of_previous_bookings_not_canceled\n",
      "Skew : 19.25\n"
     ]
    },
    {
     "data": {
      "image/png": "[encoded data removed]",
      "text/plain": [
       "<Figure size 1080x288 with 2 Axes>"
      ]
     },
     "metadata": {
      "needs_background": "light"
     },
     "output_type": "display_data"
    },
    {
     "name": "stdout",
     "output_type": "stream",
     "text": [
      "avg_price_per_room\n",
      "Skew : 0.67\n"
     ]
    },
    {
     "data": {
      "image/png": "[encoded data removed]",
      "text/plain": [
       "<Figure size 1080x288 with 2 Axes>"
      ]
     },
     "metadata": {
      "needs_background": "light"
     },
     "output_type": "display_data"
    }
   ],
   "source": [
    "for col in ['lead_time', 'no_of_previous_cancellations', 'no_of_previous_bookings_not_canceled', 'avg_price_per_room']:\n",
    "    print(col)\n",
    "    print('Skew :',round(data[col].skew(),2))\n",
    "    plt.figure(figsize=(15,4))\n",
    "    plt.subplot(1,2,1)\n",
    "    data[col].hist(bins=10, grid=False)\n",
    "    plt.ylabel('count')\n",
    "    plt.subplot(1,2,2)\n",
    "    sns.boxplot(x=data[col])\n",
    "    plt.show()"
   ]
  },
  {
   "cell_type": "markdown",
   "id": "4773627e",
   "metadata": {},
   "source": [
    "- The distribution of **lead time is right-skewed**. Many customers have made the booking on the same day of arrival as well. There are many outliers, **some customers made booking more than 400 days in advance**. \n",
    "- **Very few customers have more than one cancellation**. Some customers canceled more than 12 times.\n",
    "- **Very few customers have more than 1 booking not canceled previously**. Some customers have not canceled their bookings around 60 times.\n",
    "- **The distribution of average price per room is skewed to right**. There are outliers on both sides. The median price of a room is around ~100 euros. There is 1 observation where the average price of the room is more than 500 euros. This observation is quite far away from the rest of the values. We can treat this by clipping the value to the upper whisker (Q3 + 1.5 * IQR)."
   ]
  },
  {
   "cell_type": "code",
   "execution_count": 14,
   "id": "cbe07a02",
   "metadata": {},
   "outputs": [
    {
     "data": {
      "text/plain": [
       "179.55"
      ]
     },
     "execution_count": 14,
     "metadata": {},
     "output_type": "execute_result"
    }
   ],
   "source": [
    "# Calculating the 25th quantile\n",
    "Q1 = data[\"avg_price_per_room\"].quantile(0.25)\n",
    "\n",
    "# Calculating the 75th quantile\n",
    "Q3 = data[\"avg_price_per_room\"].quantile(0.75)\n",
    "\n",
    "# Calculating IQR\n",
    "IQR = Q3 - Q1\n",
    "\n",
    "# Calculating value of upper whisker\n",
    "Upper_Whisker = Q3 + 1.5 * IQR\n",
    "Upper_Whisker"
   ]
  },
  {
   "cell_type": "code",
   "execution_count": 15,
   "id": "4c9189a1",
   "metadata": {},
   "outputs": [],
   "source": [
    "# assigning the outliers the value of upper whisker\n",
    "data.loc[data[\"avg_price_per_room\"] >= 500, \"avg_price_per_room\"] = Upper_Whisker"
   ]
  },
  {
   "cell_type": "markdown",
   "id": "78491ac8",
   "metadata": {},
   "source": [
    "#### Now, let's check percentage of each category for some variables"
   ]
  },
  {
   "cell_type": "markdown",
   "id": "82c1920c",
   "metadata": {},
   "source": [
    "#### Question 2: \n",
    "\n",
    "- **Write the code to check the percentage of each category for columns mentioned below (cat_cols) (2 Marks)**\n",
    "- **Write your observations (2 Marks)**"
   ]
  },
  {
   "cell_type": "code",
   "execution_count": 16,
   "id": "5b03337e",
   "metadata": {},
   "outputs": [
    {
     "name": "stdout",
     "output_type": "stream",
     "text": [
      "no_of_adults :\n",
      "2    0.719724\n",
      "1    0.212130\n",
      "3    0.063873\n",
      "0    0.003832\n",
      "4    0.000441\n",
      "Name: no_of_adults, dtype: float64\n",
      "\n",
      "\n",
      "\n",
      "\n",
      "no_of_children :\n",
      "0     0.925624\n",
      "1     0.044604\n",
      "2     0.029166\n",
      "3     0.000524\n",
      "9     0.000055\n",
      "10    0.000028\n",
      "Name: no_of_children, dtype: float64\n",
      "\n",
      "\n",
      "\n",
      "\n",
      "no_of_week_nights :\n",
      "2     0.315479\n",
      "1     0.261558\n",
      "3     0.216099\n",
      "4     0.082426\n",
      "0     0.065803\n",
      "5     0.044493\n",
      "6     0.005210\n",
      "7     0.003115\n",
      "10    0.001709\n",
      "8     0.001709\n",
      "9     0.000937\n",
      "11    0.000469\n",
      "15    0.000276\n",
      "12    0.000248\n",
      "14    0.000193\n",
      "13    0.000138\n",
      "17    0.000083\n",
      "16    0.000055\n",
      "Name: no_of_week_nights, dtype: float64\n",
      "\n",
      "\n",
      "\n",
      "\n",
      "no_of_weekend_nights :\n",
      "0    0.465114\n",
      "1    0.275534\n",
      "2    0.250062\n",
      "3    0.004218\n",
      "4    0.003556\n",
      "5    0.000937\n",
      "6    0.000551\n",
      "7    0.000028\n",
      "Name: no_of_weekend_nights, dtype: float64\n",
      "\n",
      "\n",
      "\n",
      "\n",
      "required_car_parking_space :\n",
      "0    0.969014\n",
      "1    0.030986\n",
      "Name: required_car_parking_space, dtype: float64\n",
      "\n",
      "\n",
      "\n",
      "\n",
      "type_of_meal_plan :\n",
      "Meal Plan 1     0.767333\n",
      "Not Selected    0.141420\n",
      "Meal Plan 2     0.091110\n",
      "Meal Plan 3     0.000138\n",
      "Name: type_of_meal_plan, dtype: float64\n",
      "\n",
      "\n",
      "\n",
      "\n",
      "room_type_reserved :\n",
      "Room_Type 1    0.775465\n",
      "Room_Type 4    0.166975\n",
      "Room_Type 6    0.026630\n",
      "Room_Type 2    0.019076\n",
      "Room_Type 5    0.007305\n",
      "Room_Type 7    0.004356\n",
      "Room_Type 3    0.000193\n",
      "Name: room_type_reserved, dtype: float64\n",
      "\n",
      "\n",
      "\n",
      "\n",
      "arrival_month :\n",
      "10    0.146575\n",
      "9     0.127112\n",
      "8     0.105114\n",
      "6     0.088298\n",
      "12    0.083280\n",
      "11    0.082150\n",
      "7     0.080496\n",
      "4     0.075424\n",
      "5     0.071620\n",
      "3     0.065003\n",
      "2     0.046975\n",
      "1     0.027953\n",
      "Name: arrival_month, dtype: float64\n",
      "\n",
      "\n",
      "\n",
      "\n",
      "market_segment_type :\n",
      "Online           0.639945\n",
      "Offline          0.290227\n",
      "Corporate        0.055603\n",
      "Complementary    0.010779\n",
      "Aviation         0.003446\n",
      "Name: market_segment_type, dtype: float64\n",
      "\n",
      "\n",
      "\n",
      "\n",
      "no_of_special_requests :\n",
      "0    0.545196\n",
      "1    0.313522\n",
      "2    0.120303\n",
      "3    0.018608\n",
      "4    0.002150\n",
      "5    0.000221\n",
      "Name: no_of_special_requests, dtype: float64\n",
      "\n",
      "\n",
      "\n",
      "\n",
      "booking_status :\n",
      "Not_Canceled    0.672364\n",
      "Canceled        0.327636\n",
      "Name: booking_status, dtype: float64\n",
      "\n",
      "\n",
      "\n",
      "\n"
     ]
    }
   ],
   "source": [
    "cat_cols = ['no_of_adults', 'no_of_children', 'no_of_week_nights', 'no_of_weekend_nights', 'required_car_parking_space', \n",
    "        'type_of_meal_plan', 'room_type_reserved', 'arrival_month', 'market_segment_type', 'no_of_special_requests', \n",
    "        'booking_status']\n",
    "\n",
    "#Write your code here\n",
    "for cat in cat_cols:\n",
    "    print(cat,\":\")\n",
    "    print(data[cat].value_counts(normalize=True))\n",
    "    print(\"\\n\\n\\n\")"
   ]
  },
  {
   "cell_type": "markdown",
   "id": "ca858e35",
   "metadata": {},
   "source": [
    "**Observations:**\n",
    "- 71.9% of bookings have 2 adults, 21.2% have 1, and the remaining 6.9% is distributed between other values (3, 0 and 4). A large majority of bookings have 2 adults, and then most of the remaining ones have 1.\n",
    "- 92.5% of bookings have no children. 4.4% have 1, 2.9% have 2. The remaining 0.3% is distributed among other values. It is safe to say that a vast majority of bookings have no children.\n",
    "- Number of week nights has a pretty even % in 2 (31%), 1 (26%) and 3 (21%) week nights booked. All other values do not have as much %, only 0 5 and 6 week nights have more than 1%. Most bookings will have between 1 and 3 week nights.\n",
    "- Weekend nights are different. Almost half of the bookings (46.5%) have 0 weekend nights booked. 27% have 1 weekend night and 25% have 2 nights. Every other number has less than 1%. The vast majority of clients book between 0 and 2 weekend nights.\n",
    "- 96.9% of clients do not require a parking space, while 3% do. In most cases, clients will not need one.\n",
    "- 76.7% of clients prefer a breakfast meal plan, while 14% do not select a meal plan and 9% a half board. Only close to 0.1% want a full board. Most clients only want a breakfast plan or no plan, and basically no (0.1%) clients want to have a full board.\n",
    "- Most clients prefer room type 1 (77%), 16.6% room type 4 and the other room types have 2% or less each. We do not have a lot of information about these room types as they are encoded.\n",
    "- 37.8% of clients arrive between August and October (Aug, Sept or Oct arrival). Almost no clients arrive between January and March (Jan, Feb or Mar).  The remaining months all have between 7% and 8.8% of the bookings. It seems that the August to October timeframe is the most successful one for receiving bookings.\n",
    "- Market segment type is very interesting. More than half (63.9%) of bookings are online. 29% are offline, and the remaining less than 7% of clients are from a different market. Targeting online customers would probably yield the best results.\n",
    "- Over half of all clients (54%) do not have any special requests. 31% have 1 request, and 12% 2. Higher numbers than 2 make up the remainder, and they all have less than 2%. In general, clients will have no or few special requests.\n",
    "- 67.2% of clients do not cancel their booking, while 32.7% do. Almost a third of all bookings being cancelled can be very expensive for this hotel chain, as the effects of cancellation are very costly (as seen at the beginning of this document). Something must be done to improve the situation."
   ]
  },
  {
   "cell_type": "markdown",
   "id": "860b93bf",
   "metadata": {},
   "source": [
    "**Replacing values 9 and 10 for the number of children with 3 and encoding the target variable**"
   ]
  },
  {
   "cell_type": "code",
   "execution_count": 17,
   "id": "e7f5c148",
   "metadata": {},
   "outputs": [],
   "source": [
    "# replacing 9, and 10 children with 3\n",
    "data[\"no_of_children\"] = data[\"no_of_children\"].replace([9, 10], 3)"
   ]
  },
  {
   "cell_type": "code",
   "execution_count": 18,
   "id": "54c00051",
   "metadata": {},
   "outputs": [],
   "source": [
    "data[\"booking_status\"] = data[\"booking_status\"].apply(lambda x: 1 if x == \"Canceled\" else 0)"
   ]
  },
  {
   "cell_type": "markdown",
   "id": "7d366a08",
   "metadata": {},
   "source": [
    "**We are done with univariate analysis and data preprocessing. Let's explore the data a bit more with bivariate analysis.**\n",
    "\n",
    "Let's check the relationship of market segment type with the average price per room."
   ]
  },
  {
   "cell_type": "code",
   "execution_count": 19,
   "id": "4130dc64",
   "metadata": {},
   "outputs": [
    {
     "data": {
      "image/png": "[encoded data removed]",
      "text/plain": [
       "<Figure size 720x432 with 1 Axes>"
      ]
     },
     "metadata": {
      "needs_background": "light"
     },
     "output_type": "display_data"
    }
   ],
   "source": [
    "plt.figure(figsize=(10, 6))\n",
    "sns.boxplot(data=data, x=\"market_segment_type\", y=\"avg_price_per_room\")\n",
    "plt.show()"
   ]
  },
  {
   "cell_type": "markdown",
   "id": "8eee35c8",
   "metadata": {},
   "source": [
    "* **Rooms booked online have the highest variations in prices.**\n",
    "* The distribution for offline and corporate room prices are almost similar except for some outliers.\n",
    "* Complementary market segment gets the rooms at very low prices, which makes sense."
   ]
  },
  {
   "cell_type": "markdown",
   "id": "4be82011",
   "metadata": {},
   "source": [
    "**Let's see how booking status varies across different market segments. Also, how lead time impacts booking status**"
   ]
  },
  {
   "cell_type": "code",
   "execution_count": 20,
   "id": "82d9090b",
   "metadata": {},
   "outputs": [
    {
     "data": {
      "image/png": "[encoded data removed]",
      "text/plain": [
       "<Figure size 720x432 with 1 Axes>"
      ]
     },
     "metadata": {
      "needs_background": "light"
     },
     "output_type": "display_data"
    }
   ],
   "source": [
    "plt.figure(figsize=(10, 6))\n",
    "sns.countplot(x='market_segment_type', hue='booking_status', data=data)\n",
    "plt.show()"
   ]
  },
  {
   "cell_type": "markdown",
   "id": "a2008d1d",
   "metadata": {},
   "source": [
    "* **Online bookings have the highest number of cancellations.**\n",
    "* Bookings made offline are less prone to cancellations.\n",
    "* Corporate and complementary segment shows very low cancellations."
   ]
  },
  {
   "cell_type": "code",
   "execution_count": 21,
   "id": "ec732677",
   "metadata": {},
   "outputs": [
    {
     "data": {
      "image/png": "[encoded data removed]",
      "text/plain": [
       "<Figure size 720x432 with 1 Axes>"
      ]
     },
     "metadata": {
      "needs_background": "light"
     },
     "output_type": "display_data"
    }
   ],
   "source": [
    "plt.figure(figsize=(10, 6))\n",
    "sns.boxplot(data=data, x=\"booking_status\", y=\"lead_time\")\n",
    "plt.show()"
   ]
  },
  {
   "cell_type": "markdown",
   "id": "ec535d01",
   "metadata": {},
   "source": [
    "* There's a big difference in the median value of lead time for bookings that were canceled and bookings that were not canceled. **The higher the lead time higher is the chances of a booking being canceled.**"
   ]
  },
  {
   "cell_type": "markdown",
   "id": "2a670631",
   "metadata": {},
   "source": [
    "**Now, let's check how the arrival month impacts the booking status**"
   ]
  },
  {
   "cell_type": "code",
   "execution_count": 22,
   "id": "42e45408",
   "metadata": {},
   "outputs": [
    {
     "data": {
      "image/png": "[encoded data removed]",
      "text/plain": [
       "<Figure size 720x432 with 1 Axes>"
      ]
     },
     "metadata": {
      "needs_background": "light"
     },
     "output_type": "display_data"
    }
   ],
   "source": [
    "plt.figure(figsize=(10, 6))\n",
    "sns.countplot(x='arrival_month', hue='booking_status', data=data)\n",
    "plt.show()"
   ]
  },
  {
   "cell_type": "markdown",
   "id": "d72f1838",
   "metadata": {},
   "source": [
    "- We observed earlier that the month of October has the highest number of bookings but the above plot shows that **October has the highest number of cancellations** as well.\n",
    "- Bookings made for **December and January are less prone to cancellations**."
   ]
  },
  {
   "cell_type": "markdown",
   "id": "48e1f125",
   "metadata": {},
   "source": [
    "**Repeating guests are the guests who stay in the hotel often and are important to brand equity. Let's see what percentage of repeating guests cancel?**"
   ]
  },
  {
   "cell_type": "code",
   "execution_count": 23,
   "id": "cb4e18b4",
   "metadata": {},
   "outputs": [
    {
     "data": {
      "image/png": "[encoded data removed]",
      "text/plain": [
       "<Figure size 720x432 with 1 Axes>"
      ]
     },
     "metadata": {
      "needs_background": "light"
     },
     "output_type": "display_data"
    }
   ],
   "source": [
    "plt.figure(figsize=(10, 6))\n",
    "sns.countplot(x='repeated_guest', hue='booking_status', data=data)\n",
    "plt.show()"
   ]
  },
  {
   "cell_type": "markdown",
   "id": "1270496c",
   "metadata": {},
   "source": [
    "* There are **very few repeat customers but the cancellation among them is very less**. This is a good indication as repeat customers are important for the hospitality industry as they can help in spreading the word of mouth."
   ]
  },
  {
   "cell_type": "markdown",
   "id": "47a3273b",
   "metadata": {
    "id": "arranged-courtesy"
   },
   "source": [
    "**We have explored different combinations of variables. Now, let's see the pairwise correlations between all the variables.**"
   ]
  },
  {
   "cell_type": "code",
   "execution_count": 24,
   "id": "d0526f08",
   "metadata": {
    "id": "official-wyoming",
    "outputId": "81a9c889-9e29-4178-924c-ff99a2b6acab"
   },
   "outputs": [
    {
     "data": {
      "image/png": "[encoded data removed]",
      "text/plain": [
       "<Figure size 864x504 with 2 Axes>"
      ]
     },
     "metadata": {
      "needs_background": "light"
     },
     "output_type": "display_data"
    }
   ],
   "source": [
    "plt.figure(figsize=(12, 7))\n",
    "sns.heatmap(data.corr(), annot=True, fmt=\".2f\")\n",
    "plt.show()"
   ]
  },
  {
   "cell_type": "markdown",
   "id": "58772a4a",
   "metadata": {
    "id": "brave-hamilton"
   },
   "source": [
    "* There's a **positive correlation between the number of customers (adults and children) and the average price per room**. This makes sense as more the number of customers more rooms they will require thus increasing the cost.\n",
    "* There's a **negative correlation between average room price and repeated guests**. The hotel might be giving some loyalty benefits to the customers.\n",
    "* **Repeated guests have a positive correlation with the number of previous bookings canceled and previous bookings not canceled.** This implies that repeated customers are also likely to cancel their bookings.  \n",
    "* There's a positive correlation between lead time and the number of weeknights a customer is planning to stay in the hotel.\n",
    "* There's a **positive correlation between booking status and lead time**, indicating higher the lead time higher are the chances of cancellation.\n",
    "* There's a negative correlation between the number of special requests from the customer and the booking status, indicating **if a customer has made some special requests the chances of cancellation might decrease**"
   ]
  },
  {
   "cell_type": "markdown",
   "id": "a1f024d8",
   "metadata": {},
   "source": [
    "**Now that we have explored our data, let's prepare it for modeling.**"
   ]
  },
  {
   "cell_type": "markdown",
   "id": "98e1adac",
   "metadata": {},
   "source": [
    "## Preparing data for modeling"
   ]
  },
  {
   "cell_type": "markdown",
   "id": "c76c783c",
   "metadata": {},
   "source": [
    "- Models cannot take non-numeric inputs. So, we will first create dummy variables for all the categorical variables.\n",
    "- We will then split the data into train and test sets."
   ]
  },
  {
   "cell_type": "markdown",
   "id": "4daa07f6",
   "metadata": {},
   "source": [
    "#### Question 3: \n",
    "\n",
    "- **Drop the target variable from the original data and store it in a separate dataframe `X` (1 Mark)**\n",
    "- **Store the target variable in a separate series `Y` (1 Mark)**"
   ]
  },
  {
   "cell_type": "code",
   "execution_count": 25,
   "id": "8a9bfde7",
   "metadata": {},
   "outputs": [],
   "source": [
    "#Remove the blanks and complete the below code\n",
    "X=data.drop(columns={\"booking_status\"})\n",
    "Y=data[\"booking_status\"]"
   ]
  },
  {
   "cell_type": "code",
   "execution_count": 26,
   "id": "5a81078e",
   "metadata": {},
   "outputs": [],
   "source": [
    "#Creating dummy variables \n",
    "#drop_first=True is used to avoid redundant variables\n",
    "X = pd.get_dummies(X, drop_first=True)"
   ]
  },
  {
   "cell_type": "code",
   "execution_count": 27,
   "id": "c61ee80c",
   "metadata": {},
   "outputs": [],
   "source": [
    "#Splitting the data into train and test sets\n",
    "X_train,X_test,y_train,y_test=train_test_split(X, Y, test_size=0.30, random_state=1)"
   ]
  },
  {
   "cell_type": "markdown",
   "id": "4bd6e912",
   "metadata": {},
   "source": [
    "## Building Classification Models"
   ]
  },
  {
   "cell_type": "markdown",
   "id": "ec027887",
   "metadata": {},
   "source": [
    "**Before training the model, let's choose the appropriate model evaluation criterion as per the problem on hand.**\n",
    "\n",
    "### Model evaluation criterion\n",
    "\n",
    "#### Model can make wrong predictions as:\n",
    "\n",
    "1. Predicting a customer will not cancel their booking but in reality, the customer will cancel their booking.\n",
    "2. Predicting a customer will cancel their booking but in reality, the customer will not cancel their booking. \n",
    "\n",
    "#### Which case is more important? \n",
    "* Both the cases are important as:\n",
    "\n",
    "* If we predict that a booking will not be canceled and the booking gets canceled then the hotel will lose resources and will have to bear additional costs of unsold rooms. The hotel might also have to bear an additional cost of advertising the room again on different distribution channels.\n",
    "\n",
    "* If we predict that a booking will get canceled and the booking doesn't get canceled the hotel might not be able to provide satisfactory services to the customer by assuming that this booking will be canceled. This might damage the brand equity. \n",
    "\n",
    "\n",
    "#### How to reduce the losses?\n",
    "\n",
    "* Hotel would want `F1 Score` to be maximized, greater the F1 score higher are the chances of minimizing False Negatives and False Positives. "
   ]
  },
  {
   "cell_type": "markdown",
   "id": "c9df17a2",
   "metadata": {
    "id": "ruled-appointment"
   },
   "source": [
    "**Also, let's create a function to calculate and print the classification report and confusion matrix so that we don't have to rewrite the same code repeatedly for each model.**"
   ]
  },
  {
   "cell_type": "code",
   "execution_count": 28,
   "id": "76fc73c8",
   "metadata": {},
   "outputs": [],
   "source": [
    "#function to print classification report and get confusion matrix in a proper format\n",
    "\n",
    "def metrics_score(actual, predicted):\n",
    "    print(classification_report(actual, predicted))\n",
    "    cm = confusion_matrix(actual, predicted)\n",
    "    plt.figure(figsize=(8,5))\n",
    "    sns.heatmap(cm, annot=True,  fmt='.2f', xticklabels=['Not Canceled', 'Canceled'], yticklabels=['Not Canceled', 'Canceled'])\n",
    "    plt.ylabel('Actual')\n",
    "    plt.xlabel('Predicted')\n",
    "    plt.show()"
   ]
  },
  {
   "cell_type": "markdown",
   "id": "108b2408",
   "metadata": {
    "id": "mysterious-sight"
   },
   "source": [
    "### Logistic Regression"
   ]
  },
  {
   "cell_type": "markdown",
   "id": "5c4977f8",
   "metadata": {},
   "source": [
    "#### Question 4: Fit the logistic regression model on the train dataset using random_state=1 (2 Marks)"
   ]
  },
  {
   "cell_type": "code",
   "execution_count": 29,
   "id": "50c0e722",
   "metadata": {
    "id": "plastic-logistics",
    "outputId": "472afe97-48ae-43c9-f971-52280fabb39d"
   },
   "outputs": [
    {
     "data": {
      "text/plain": [
       "LogisticRegression(random_state=1)"
      ]
     },
     "execution_count": 29,
     "metadata": {},
     "output_type": "execute_result"
    }
   ],
   "source": [
    "#define logistic regression model \n",
    "log_reg=LogisticRegression(random_state=1)\n",
    "#fit the model\n",
    "log_reg.fit(X_train, y_train) #write your code here"
   ]
  },
  {
   "cell_type": "markdown",
   "id": "b64c0b76",
   "metadata": {},
   "source": [
    "**Let's check the coefficient of each dependent variable in the data**"
   ]
  },
  {
   "cell_type": "markdown",
   "id": "8d2a331c",
   "metadata": {},
   "source": [
    "#### Question 5: Write your observations on the below coefficients obtained from the logistic regression model (3 Marks)"
   ]
  },
  {
   "cell_type": "code",
   "execution_count": 30,
   "id": "97c8022c",
   "metadata": {
    "id": "coordinate-superintendent",
    "outputId": "bd508087-3ace-4664-da2b-90ed282fb66d"
   },
   "outputs": [
    {
     "data": {
      "text/plain": [
       "market_segment_type_Online              0.629148\n",
       "type_of_meal_plan_Not Selected          0.324141\n",
       "no_of_weekend_nights                    0.181323\n",
       "avg_price_per_room                      0.019673\n",
       "lead_time                               0.015663\n",
       "no_of_adults                            0.011646\n",
       "no_of_week_nights                       0.003552\n",
       "arrival_date                            0.001169\n",
       "type_of_meal_plan_Meal Plan 3           0.000404\n",
       "room_type_reserved_Room_Type 3          0.000343\n",
       "arrival_year                           -0.001720\n",
       "room_type_reserved_Room_Type 2         -0.004321\n",
       "market_segment_type_Complementary      -0.008853\n",
       "room_type_reserved_Room_Type 5         -0.011247\n",
       "room_type_reserved_Room_Type 7         -0.017973\n",
       "no_of_previous_cancellations           -0.024807\n",
       "market_segment_type_Corporate          -0.031524\n",
       "room_type_reserved_Room_Type 4         -0.033054\n",
       "repeated_guest                         -0.043752\n",
       "room_type_reserved_Room_Type 6         -0.046006\n",
       "no_of_children                         -0.054241\n",
       "arrival_month                          -0.061278\n",
       "type_of_meal_plan_Meal Plan 2          -0.094977\n",
       "required_car_parking_space             -0.140227\n",
       "no_of_previous_bookings_not_canceled   -0.213859\n",
       "market_segment_type_Offline            -0.603138\n",
       "no_of_special_requests                 -1.560552\n",
       "dtype: float64"
      ]
     },
     "execution_count": 30,
     "metadata": {},
     "output_type": "execute_result"
    }
   ],
   "source": [
    "pd.Series(log_reg.coef_[0], index=X_train.columns).sort_values(ascending=False)"
   ]
  },
  {
   "cell_type": "markdown",
   "id": "df4611f0",
   "metadata": {},
   "source": [
    "**Observations:**\n",
    "- As we know, these coefficients tell us log of odds values. When lineary combined, it will tell us something about the probability of our target being of a certain class.\n",
    "- Positive impact on target variable:\n",
    "    - Market_segment_type_Online: has the largest positive coefficient/positive impact on target variable. If a customer books online it increases the log odds of out target (booking cancelled) variable's classification by 0.629 units.\n",
    "    - type_pf_meal_plan_Not Selected has the second biggest positive impact on our target variable.\n",
    "    - no_of_weekend_nights has a large coefficient (0.18), although smaller than the previous ones.\n",
    "    - avg_price_per_room, lead_time, np_of_adults, no_of_week_nights, arrival_date, type_of_meal_plan_Meal Plan 3, room_type_reserved_Room_Type 3 all have positive impact on the probability mentioned, but with smaller coefficients.\n",
    "- Negative impact on target variable:\n",
    "    - no_of_special_requests has the lowest negative coefficient (-1.56). This variable will make the largest negative impact on our log of odds of our target variable. As seen beforehand in the correlation matrix, the more requests the client makes, the least likely they are of cancelling the booking. We would still need to see the real value (by using exponential) to analyze it further.\n",
    "    - market_segment_type_Offline also has a strong negative impact on our target variable, although not as big an impact as special requests. This value is -0.60, while type Online is +0.62, interestingly. They have almost opposite effects on our log of odds.\n",
    "    - no_of_previous_bookings_not_canceled also has a negative impact on our target variable. Previously we saw that loyal customers are much less likely to cancel bookings.\n",
    "    - required_car_parking_space, type_of_meal_plan_Meal Plan 2, arrival_month, no_of_children, room_type_reserved_Room_Type 6, repeated_guest, room_type_reserved_Room_Type 4, market_segment_type_Corporate, no_of_previous_cancellations, room_type_reserved_Room_Type 7, room_type_reserved_Room_Type 5, market_segment_type_Complementary, room_type_reserved_Room_Type 2, arrival_year all have negative impact on the previously mentioned probability, although smaller."
   ]
  },
  {
   "cell_type": "markdown",
   "id": "913a5d1b",
   "metadata": {},
   "source": [
    "#### Question 6: Write your interpretations of the odds calculated from the logistic regression model coefficients (3 Marks)"
   ]
  },
  {
   "cell_type": "code",
   "execution_count": 31,
   "id": "dad61d8c",
   "metadata": {},
   "outputs": [
    {
     "data": {
      "text/html": [
       "<div>\n",
       "<style scoped>\n",
       "    .dataframe tbody tr th:only-of-type {\n",
       "        vertical-align: middle;\n",
       "    }\n",
       "\n",
       "    .dataframe tbody tr th {\n",
       "        vertical-align: top;\n",
       "    }\n",
       "\n",
       "    .dataframe thead th {\n",
       "        text-align: right;\n",
       "    }\n",
       "</style>\n",
       "<table border=\"1\" class=\"dataframe\">\n",
       "  <thead>\n",
       "    <tr style=\"text-align: right;\">\n",
       "      <th></th>\n",
       "      <th>odds</th>\n",
       "    </tr>\n",
       "  </thead>\n",
       "  <tbody>\n",
       "    <tr>\n",
       "      <th>market_segment_type_Online</th>\n",
       "      <td>1.876011</td>\n",
       "    </tr>\n",
       "    <tr>\n",
       "      <th>type_of_meal_plan_Not Selected</th>\n",
       "      <td>1.382843</td>\n",
       "    </tr>\n",
       "    <tr>\n",
       "      <th>no_of_weekend_nights</th>\n",
       "      <td>1.198802</td>\n",
       "    </tr>\n",
       "    <tr>\n",
       "      <th>avg_price_per_room</th>\n",
       "      <td>1.019868</td>\n",
       "    </tr>\n",
       "    <tr>\n",
       "      <th>lead_time</th>\n",
       "      <td>1.015787</td>\n",
       "    </tr>\n",
       "    <tr>\n",
       "      <th>no_of_adults</th>\n",
       "      <td>1.011714</td>\n",
       "    </tr>\n",
       "    <tr>\n",
       "      <th>no_of_week_nights</th>\n",
       "      <td>1.003558</td>\n",
       "    </tr>\n",
       "    <tr>\n",
       "      <th>arrival_date</th>\n",
       "      <td>1.001169</td>\n",
       "    </tr>\n",
       "    <tr>\n",
       "      <th>type_of_meal_plan_Meal Plan 3</th>\n",
       "      <td>1.000404</td>\n",
       "    </tr>\n",
       "    <tr>\n",
       "      <th>room_type_reserved_Room_Type 3</th>\n",
       "      <td>1.000343</td>\n",
       "    </tr>\n",
       "    <tr>\n",
       "      <th>arrival_year</th>\n",
       "      <td>0.998282</td>\n",
       "    </tr>\n",
       "    <tr>\n",
       "      <th>room_type_reserved_Room_Type 2</th>\n",
       "      <td>0.995688</td>\n",
       "    </tr>\n",
       "    <tr>\n",
       "      <th>market_segment_type_Complementary</th>\n",
       "      <td>0.991186</td>\n",
       "    </tr>\n",
       "    <tr>\n",
       "      <th>room_type_reserved_Room_Type 5</th>\n",
       "      <td>0.988816</td>\n",
       "    </tr>\n",
       "    <tr>\n",
       "      <th>room_type_reserved_Room_Type 7</th>\n",
       "      <td>0.982188</td>\n",
       "    </tr>\n",
       "    <tr>\n",
       "      <th>no_of_previous_cancellations</th>\n",
       "      <td>0.975498</td>\n",
       "    </tr>\n",
       "    <tr>\n",
       "      <th>market_segment_type_Corporate</th>\n",
       "      <td>0.968968</td>\n",
       "    </tr>\n",
       "    <tr>\n",
       "      <th>room_type_reserved_Room_Type 4</th>\n",
       "      <td>0.967486</td>\n",
       "    </tr>\n",
       "    <tr>\n",
       "      <th>repeated_guest</th>\n",
       "      <td>0.957191</td>\n",
       "    </tr>\n",
       "    <tr>\n",
       "      <th>room_type_reserved_Room_Type 6</th>\n",
       "      <td>0.955036</td>\n",
       "    </tr>\n",
       "    <tr>\n",
       "      <th>no_of_children</th>\n",
       "      <td>0.947204</td>\n",
       "    </tr>\n",
       "    <tr>\n",
       "      <th>arrival_month</th>\n",
       "      <td>0.940561</td>\n",
       "    </tr>\n",
       "    <tr>\n",
       "      <th>type_of_meal_plan_Meal Plan 2</th>\n",
       "      <td>0.909394</td>\n",
       "    </tr>\n",
       "    <tr>\n",
       "      <th>required_car_parking_space</th>\n",
       "      <td>0.869161</td>\n",
       "    </tr>\n",
       "    <tr>\n",
       "      <th>no_of_previous_bookings_not_canceled</th>\n",
       "      <td>0.807462</td>\n",
       "    </tr>\n",
       "    <tr>\n",
       "      <th>market_segment_type_Offline</th>\n",
       "      <td>0.547092</td>\n",
       "    </tr>\n",
       "    <tr>\n",
       "      <th>no_of_special_requests</th>\n",
       "      <td>0.210020</td>\n",
       "    </tr>\n",
       "  </tbody>\n",
       "</table>\n",
       "</div>"
      ],
      "text/plain": [
       "                                          odds\n",
       "market_segment_type_Online            1.876011\n",
       "type_of_meal_plan_Not Selected        1.382843\n",
       "no_of_weekend_nights                  1.198802\n",
       "avg_price_per_room                    1.019868\n",
       "lead_time                             1.015787\n",
       "no_of_adults                          1.011714\n",
       "no_of_week_nights                     1.003558\n",
       "arrival_date                          1.001169\n",
       "type_of_meal_plan_Meal Plan 3         1.000404\n",
       "room_type_reserved_Room_Type 3        1.000343\n",
       "arrival_year                          0.998282\n",
       "room_type_reserved_Room_Type 2        0.995688\n",
       "market_segment_type_Complementary     0.991186\n",
       "room_type_reserved_Room_Type 5        0.988816\n",
       "room_type_reserved_Room_Type 7        0.982188\n",
       "no_of_previous_cancellations          0.975498\n",
       "market_segment_type_Corporate         0.968968\n",
       "room_type_reserved_Room_Type 4        0.967486\n",
       "repeated_guest                        0.957191\n",
       "room_type_reserved_Room_Type 6        0.955036\n",
       "no_of_children                        0.947204\n",
       "arrival_month                         0.940561\n",
       "type_of_meal_plan_Meal Plan 2         0.909394\n",
       "required_car_parking_space            0.869161\n",
       "no_of_previous_bookings_not_canceled  0.807462\n",
       "market_segment_type_Offline           0.547092\n",
       "no_of_special_requests                0.210020"
      ]
     },
     "execution_count": 31,
     "metadata": {},
     "output_type": "execute_result"
    }
   ],
   "source": [
    "odds = np.exp(log_reg.coef_[0]) #finding the odds\n",
    "\n",
    "# adding the odds to a dataframe and sorting the values\n",
    "pd.DataFrame(odds, X_train.columns, columns=['odds']).sort_values(by='odds', ascending=False) "
   ]
  },
  {
   "cell_type": "markdown",
   "id": "bb4bf904",
   "metadata": {},
   "source": [
    "**Observations:**\n",
    "- The odds of a customer who booked online cancelling are 1.876 times higher than those who don't. This makes sense, as we saw previously, online bookings have the highest cancellations.\n",
    "- The odds of customers who do not select a meal plan cancelling their booking is 1.38 times those who do. This is despite most clients choosing a breakfast plan. This could be attributed to the fact that customers who don't want a meal plan have a lesser need for a hotel or haven't planned their trip as much.\n",
    "- Clients who have special requests are 0.2 times as likely to cancel compared to those who don't. This makes sense, as seen previously, clients that make this special requests do not cancel their bookings as often.\n",
    "- Clients who reserve offline cancel 0.54 times as much as those who reserve with other methods. This is a nice contrast compared to online clients which were analyzed starting this section.\n",
    "- Clients who had previously not canceled are 0.8 times as likely to cancel compared to those in the other category. So, clients who have previously arrived to their bookings are less likely to cancel a new booking, but the impact isn't as big as other categories (offline and special requests).\n",
    "- A lot of variables have a close to 1 odds of cancelling (close to same odds as comparison)."
   ]
  },
  {
   "cell_type": "markdown",
   "id": "64b2ccff",
   "metadata": {},
   "source": [
    "**Now, let's check the performance of the model on the training set**"
   ]
  },
  {
   "cell_type": "markdown",
   "id": "ba853b6e",
   "metadata": {},
   "source": [
    "#### Question 7: Check the performance on the training data and write your observations from the classification report and confusion matrix for the training set (3 Marks)"
   ]
  },
  {
   "cell_type": "code",
   "execution_count": 32,
   "id": "3b073f7d",
   "metadata": {},
   "outputs": [
    {
     "name": "stdout",
     "output_type": "stream",
     "text": [
      "              precision    recall  f1-score   support\n",
      "\n",
      "           0       0.82      0.89      0.86     17029\n",
      "           1       0.74      0.61      0.67      8363\n",
      "\n",
      "    accuracy                           0.80     25392\n",
      "   macro avg       0.78      0.75      0.76     25392\n",
      "weighted avg       0.79      0.80      0.79     25392\n",
      "\n"
     ]
    },
    {
     "data": {
      "image/png": "[encoded data removed]",
      "text/plain": [
       "<Figure size 576x360 with 2 Axes>"
      ]
     },
     "metadata": {
      "needs_background": "light"
     },
     "output_type": "display_data"
    }
   ],
   "source": [
    "# Checking performance on the training data\n",
    "y_pred_train = log_reg.predict(X_train)\n",
    "metrics_score(y_train, y_pred_train)"
   ]
  },
  {
   "cell_type": "markdown",
   "id": "5313f31d",
   "metadata": {},
   "source": [
    "**Reading confusion matrix (clockwise):**\n",
    "\n",
    "- **True Positive**: Predicting the customer will not cancel the booking and the customer does not cancel the booking\n",
    "- **False Negative**: Predicting the customer will cancel the booking but the customer does not cancel the booking\n",
    "- **True Negative**: Predicting the customer will cancel the booking and the customer cancels the booking\n",
    "- **False Positive**: Predicting the customer will not cancel the booking but the customer cancels the booking"
   ]
  },
  {
   "cell_type": "markdown",
   "id": "beb915a0",
   "metadata": {},
   "source": [
    "**Observations:**\n",
    "- There are a lot more False Positive type errors than false negative (3261 vs 1826). The model is more likely to predict a customer will not cancel a booking when they will than it is to predict they will cancel when they won't. Both errors are very costly to the hotels, and it might be worth it to adjust the model to balance these 2 errors.\n",
    "- The model has a lot of true positive predictions. 15203 not cancelled cases out of 17029 total were predicted correctly. \n",
    "- For customer who cancelled, 5102 out of 8363 cases were predicted correctly. This can and should be improved significantly, as it could be very costly to the hotel. Still, accurately predicting over 60% of the cancelled cases should save the hotel costs.\n",
    "- The precision and recall for class 0 are both very high, which means the accuracy/F1 is very good.\n",
    "- The precision for class 1 is somewhat high, but the recall isn't as high which drops this class's accuracy/F1. As seen before in the confusion matrix analysis, it is not nearly as accurate as class 0"
   ]
  },
  {
   "cell_type": "markdown",
   "id": "74bb20d0",
   "metadata": {},
   "source": [
    "**Precision-Recall Curve for Logistic Regression**"
   ]
  },
  {
   "cell_type": "code",
   "execution_count": 33,
   "id": "f5be6ffa",
   "metadata": {},
   "outputs": [
    {
     "data": {
      "image/png": "[encoded data removed]",
      "text/plain": [
       "<Figure size 720x504 with 1 Axes>"
      ]
     },
     "metadata": {
      "needs_background": "light"
     },
     "output_type": "display_data"
    }
   ],
   "source": [
    "y_scores=log_reg.predict_proba(X_train) #predict_proba gives the probability of each observation belonging to each class\n",
    "\n",
    "\n",
    "precisions, recalls, thresholds = precision_recall_curve(y_train, y_scores[:,1])\n",
    "\n",
    "#Plot values of precisions, recalls, and thresholds\n",
    "plt.figure(figsize=(10,7))\n",
    "plt.plot(thresholds, precisions[:-1], 'b--', label='precision')\n",
    "plt.plot(thresholds, recalls[:-1], 'g--', label = 'recall')\n",
    "plt.xlabel('Threshold')\n",
    "plt.legend(loc='upper left')\n",
    "plt.ylim([0,1])\n",
    "plt.show()"
   ]
  },
  {
   "cell_type": "markdown",
   "id": "be9213f8",
   "metadata": {},
   "source": [
    "**Observations:**\n",
    "- We can see that **precision and recall are balanced for the threshold of about 0.4.**\n",
    "- Let's try to calculate the exact threshold where precision and recall are equal."
   ]
  },
  {
   "cell_type": "code",
   "execution_count": 34,
   "id": "dc1063bf",
   "metadata": {},
   "outputs": [
    {
     "name": "stdout",
     "output_type": "stream",
     "text": [
      "0.4193398956396855\n"
     ]
    }
   ],
   "source": [
    "#calculating the exact threshold where precision and recall are equal.\n",
    "for i in np.arange(len(thresholds)):\n",
    "    if precisions[i]==recalls[i]:\n",
    "        print(thresholds[i])"
   ]
  },
  {
   "cell_type": "markdown",
   "id": "7d56a838",
   "metadata": {},
   "source": [
    "- The threshold of 0.42 would give a balanced precision and recall."
   ]
  },
  {
   "cell_type": "markdown",
   "id": "52c27223",
   "metadata": {},
   "source": [
    "#### Question 8: Compare the performance of the model on training and testing sets after changing the threshold (2 Marks)"
   ]
  },
  {
   "cell_type": "code",
   "execution_count": 35,
   "id": "2c455bdb",
   "metadata": {},
   "outputs": [
    {
     "name": "stdout",
     "output_type": "stream",
     "text": [
      "              precision    recall  f1-score   support\n",
      "\n",
      "           0       0.84      0.84      0.84     17029\n",
      "           1       0.68      0.68      0.68      8363\n",
      "\n",
      "    accuracy                           0.79     25392\n",
      "   macro avg       0.76      0.76      0.76     25392\n",
      "weighted avg       0.79      0.79      0.79     25392\n",
      "\n"
     ]
    },
    {
     "data": {
      "image/png": "[encoded data removed]",
      "text/plain": [
       "<Figure size 576x360 with 2 Axes>"
      ]
     },
     "metadata": {
      "needs_background": "light"
     },
     "output_type": "display_data"
    }
   ],
   "source": [
    "optimal_threshold1 = 0.42\n",
    "metrics_score(y_train, y_scores[:,1]>optimal_threshold1)"
   ]
  },
  {
   "cell_type": "markdown",
   "id": "2b3dc0dc",
   "metadata": {},
   "source": [
    "**Let's check the performance of the model on the test data**"
   ]
  },
  {
   "cell_type": "code",
   "execution_count": 36,
   "id": "a8f5adb2",
   "metadata": {},
   "outputs": [
    {
     "name": "stdout",
     "output_type": "stream",
     "text": [
      "              precision    recall  f1-score   support\n",
      "\n",
      "           0       0.85      0.85      0.85      7361\n",
      "           1       0.68      0.69      0.68      3522\n",
      "\n",
      "    accuracy                           0.79     10883\n",
      "   macro avg       0.77      0.77      0.77     10883\n",
      "weighted avg       0.79      0.79      0.79     10883\n",
      "\n"
     ]
    },
    {
     "data": {
      "image/png": "[encoded data removed]",
      "text/plain": [
       "<Figure size 576x360 with 2 Axes>"
      ]
     },
     "metadata": {
      "needs_background": "light"
     },
     "output_type": "display_data"
    }
   ],
   "source": [
    "#Checking performance on the testing data\n",
    "y_pred_test = log_reg.predict_proba(X_test)\n",
    "metrics_score(y_test, y_pred_test[:,1]>optimal_threshold1)"
   ]
  },
  {
   "cell_type": "markdown",
   "id": "7adf03dc",
   "metadata": {},
   "source": [
    "**Observations:**\n",
    "- On the training data, class 0 f1 dropped from 0.86 to 0.84, as recall dropped even if precision got better. The original threshold was better for this class. However, the drop is small (0.02). Meanwhile, class 1 precision dropped from 0.74 to 0.68, and recall improved from 0.61 to 0.68. The overall accuracy for class one improved by 0.01. This threshold changes were not that effective or worth it in the training data.\n",
    "- Let's see test data:\n",
    "    - Out of 7361 customers who didn't cancel, 6234 were predicted properly. 1127 were predicted as cancelling even if they didn't. This is costly on the hotel's reputation, as they will not give proper service to clients who won't cancel.\n",
    "    - Out of 3522 clients who cancelled, 2414 were predicted properly, while 1108 were predicted as not cancelling. Again, catching these 2414 customers could save some costs, but the low accuracy can still be costly.\n",
    "    - Both the precision and recall for class 0 are identical, with an f1 score of 0.85 which means the model is decent for this class, but could be improved.\n",
    "    - Both the precision and recall for class 1 are almost the same (0.68 and 0.69), for an overall class accuracy of 0.68. This is very low.\n",
    "    - Overall, both recall and precision have a less than 0.8 accuracy which is not the best.\n",
    "    - While the model does catch some clients who will cancel, it will also have false negatives which can really hurt the hotel's reputation and standards."
   ]
  },
  {
   "cell_type": "markdown",
   "id": "37b67ae8",
   "metadata": {},
   "source": [
    "### K - Nearest Neighbors (KNN)"
   ]
  },
  {
   "cell_type": "markdown",
   "id": "20c24566",
   "metadata": {
    "id": "-UbHz9RuDPzc"
   },
   "source": [
    "- KNN is a distance based algorithm and all distance based algorithms are affected by the scale of the data.\n",
    "- We will scale the attributes (dataframe X defined above) before building the KNN model.\n",
    "- Then We need to identify the value of K to be used in KNN. We will use **GridSearchCV** to find the optimal value of K along with other hyperparameters."
   ]
  },
  {
   "cell_type": "code",
   "execution_count": 37,
   "id": "a89d29ea",
   "metadata": {
    "id": "vbm0fsfIDPzk"
   },
   "outputs": [],
   "source": [
    "# scaling the data\n",
    "scaler=StandardScaler()\n",
    "X_train_scaled=pd.DataFrame(scaler.fit_transform(X_train), columns=X_train.columns)  #fit_transform the training data\n",
    "X_test_scaled=pd.DataFrame(scaler.transform(X_test), columns=X_test.columns) #transform the testing data"
   ]
  },
  {
   "cell_type": "markdown",
   "id": "37cb48fe",
   "metadata": {},
   "source": [
    "### Using GridSearchCV for find the value of K and hyperparameter tuning"
   ]
  },
  {
   "cell_type": "markdown",
   "id": "1f53204c",
   "metadata": {},
   "source": [
    "**Points to note:**\n",
    "\n",
    "* Hyperparameter tuning is tricky in the sense that there is no direct way to calculate how a change in the hyperparameter value will reduce the loss of your model, so we usually resort to experimentation.\n",
    "* **Grid search** is a tuning technique that attempts to compute the optimum values of hyperparameters. \n",
    "* Grid search is an exhaustive search of values that tries many iterations to compute the optimum values of hyperparameters. So, **it might take up to 30 minutes for the code to run depending on the number of values and hyperparameters passed.**  \n",
    "* The hyperparameters that we are tuning are:\n",
    "\n",
    "    - **n_neighbors**: Number of neighbors to use.\n",
    "\n",
    "    - **weights={'uniform', 'distance'}**\n",
    "        - uniform : uniform weights. All points in each neighborhood are weighted equally.\n",
    "        - distance : weight points by the inverse of their distance. In this case, closer neighbors of a query point will have a greater influence than neighbors that are further away.\n",
    "\n",
    "    - **p**: When p = 1, this is equivalent to using Manhattan_distance (L1), and Euclidean_distance (L2) is used for p = 2."
   ]
  },
  {
   "cell_type": "code",
   "execution_count": 38,
   "id": "d143213d",
   "metadata": {},
   "outputs": [
    {
     "name": "stdout",
     "output_type": "stream",
     "text": [
      "KNeighborsClassifier(n_neighbors=14, p=1, weights='distance')\n"
     ]
    }
   ],
   "source": [
    "knn = KNeighborsClassifier()\n",
    "\n",
    "params_knn = {'n_neighbors':np.arange(2,20,2), 'weights':['uniform','distance'], 'p':[1,2]}\n",
    "\n",
    "grid_knn = GridSearchCV(estimator=knn, param_grid=params_knn, scoring='f1', cv=10)\n",
    "\n",
    "model_knn=grid_knn.fit(X_train_scaled,y_train)\n",
    "\n",
    "knn_estimator = model_knn.best_estimator_\n",
    "print(knn_estimator)"
   ]
  },
  {
   "cell_type": "markdown",
   "id": "4b0878a7",
   "metadata": {},
   "source": [
    "#### Question 9: \n",
    "\n",
    "- **Fit the KNN model on the scaled training data using the optimal values of hyperparameters obtained from GridSearchCV (1 mark)**\n",
    "- **Check the performance of the model on the scaled training and testing sets (2 Marks)**\n",
    "- **Compare the performance and write your observations (1 Marks)**"
   ]
  },
  {
   "cell_type": "code",
   "execution_count": 40,
   "id": "e87f9558",
   "metadata": {},
   "outputs": [
    {
     "data": {
      "text/plain": [
       "KNeighborsClassifier(n_neighbors=14, p=1, weights='distance')"
      ]
     },
     "execution_count": 40,
     "metadata": {},
     "output_type": "execute_result"
    }
   ],
   "source": [
    "#Fit the KNN model on the scaled training data\n",
    "knn_estimator.fit(X_train, y_train)"
   ]
  },
  {
   "cell_type": "code",
   "execution_count": 42,
   "id": "70356868",
   "metadata": {},
   "outputs": [
    {
     "name": "stdout",
     "output_type": "stream",
     "text": [
      "              precision    recall  f1-score   support\n",
      "\n",
      "           0       0.99      1.00      1.00     17029\n",
      "           1       1.00      0.99      0.99      8363\n",
      "\n",
      "    accuracy                           0.99     25392\n",
      "   macro avg       0.99      0.99      0.99     25392\n",
      "weighted avg       0.99      0.99      0.99     25392\n",
      "\n"
     ]
    },
    {
     "data": {
      "image/png": "[encoded data removed]",
      "text/plain": [
       "<Figure size 576x360 with 2 Axes>"
      ]
     },
     "metadata": {
      "needs_background": "light"
     },
     "output_type": "display_data"
    }
   ],
   "source": [
    "#Make predictions on the scaled training data and check the performance (using metrics_score function)\n",
    "\n",
    "y_pred_train = knn_estimator.predict(X_train)\n",
    "metrics_score(y_train, y_pred_train)"
   ]
  },
  {
   "cell_type": "code",
   "execution_count": 43,
   "id": "79360565",
   "metadata": {},
   "outputs": [
    {
     "name": "stdout",
     "output_type": "stream",
     "text": [
      "              precision    recall  f1-score   support\n",
      "\n",
      "           0       0.86      0.93      0.89      7361\n",
      "           1       0.82      0.68      0.74      3522\n",
      "\n",
      "    accuracy                           0.85     10883\n",
      "   macro avg       0.84      0.81      0.82     10883\n",
      "weighted avg       0.85      0.85      0.84     10883\n",
      "\n"
     ]
    },
    {
     "data": {
      "image/png": "[encoded data removed]",
      "text/plain": [
       "<Figure size 576x360 with 2 Axes>"
      ]
     },
     "metadata": {
      "needs_background": "light"
     },
     "output_type": "display_data"
    }
   ],
   "source": [
    "#Make predictions on the scaled testing data and check the performance (using metrics_score function)\n",
    "y_pred_test = knn_estimator.predict(X_test)\n",
    "metrics_score(y_test, y_pred_test)"
   ]
  },
  {
   "cell_type": "markdown",
   "id": "46c6af17",
   "metadata": {},
   "source": [
    "**Observations:**\n",
    "- The performance for both class 1 and class 2 is amazing on the training set,  tne precision and recall on both classes being over 0.99. This gets represented in an overall 0.99 accuracy, which is very good. As can be seen in the confusion matriz, 17002 out of 17029 not cancelled customers got predicted correctly, while 8242 out of 8363 cancelled customers got classified properly. This would represent a lot of saved costs for the hotel company.\n",
    "- However, this amazing performance might be an overfit, as the test data results are not nearly as good. \n",
    "    - The class 0 precision is 0.86, which is decent but could be improved. The recall is 0.93, which is very good, for an overall f1-score of 0.89, which is better than Logistic Regression results.\n",
    "    - Meanwhile, class 1 is a lot worse, precision is only 0.82 and recall is a measly 0.68. The accuracy is still better than logistic regression, with 0.74.\n",
    "    - Overall, both recall and precision have averages of over 0.8, so a big improvement over logistic regression but still not perfect.\n",
    "        - As it can be appreciated in the confusion matriz. While not cancelled predictions are made properly for 6816/7361 of these customers, only 2412 out of 3522 cancelling customers get labeled correctly. There are a lot of false positives.\n",
    "- Overall, this model is our best performing one yet. However, it could still get improved, with a very low recall and accuracy for class 1 on test set. As seen in the training set, the model is overfitting, and not performing as well as it could on the test set as a consequence of this."
   ]
  },
  {
   "cell_type": "markdown",
   "id": "305dd02c",
   "metadata": {},
   "source": [
    "#### Question 10: Write the conclusion on the key factors that are driving the approval of loan and write your recommendations to the business on how can they minimize the number of cancellations. (5 Marks)"
   ]
  },
  {
   "cell_type": "markdown",
   "id": "3cd4a1b6",
   "metadata": {},
   "source": [
    "### Conclusion:\n",
    "\n",
    "- To predict if a reserving hotel customer would cancel or not, we first analyzed the stats of all the data columns to see if there were outliers or null values.\n",
    "- Afterwards, we checked the percentage of customers in each of the categorical variables. We found out that nearly 1/3rd of all reservations were cancelled. This is very costly for a hotel, as it forces them into not selling rooms or having to give them out cheaper.\n",
    "- We analyzed the correlations to find out which clients were more likely to cancel or not cancel based on other properties. We found out that clients who wanted special features tend to not cancel (as well as loyal clients), while clients who reserve online cancel the most.\n",
    "- We tried to find the best model to predict if a customer would cancel or not. This model **has** to be accurate no matter what, as getting false negatives (predicting the customer will cancel the booking but the customer does not cancel the booking) could hurt the hotel's reputation very badly as well as the customer's experience. Meanwhile, false positives (predicting the customer will not cancel when they do) is very costly for the aforementioned reasons.\n",
    "- We tried logistic regression, which is a probabilistic approach, and found out that the customers most likely to cancel are those who book online and don't select meal plans. Meanwhile, the customers who ask for special requirements, book offline and have previously booked without cancelling; are the ones least likely to cancel the reservation.\n",
    "- The models we tried worked to some extent, but logistic regression only had an overall accuracy of 0.79, with a lot of false positives which could be really costly and might not be precise enough.\n",
    "- KNN model was more accurate, with an overall accuracy of 0.85. This might be good enough, considering the false positives only made up 7.43% of the not cancelled customer predictions (out of all the customers who didn't cancel, only 7.43% were misclassified). So the reputation won't be hurt much, and 68% of the customers who will cancel were predicted properly. Even if not perfect, predicting these many cancelling customers can help reduce the cost of caused by them significantly.\n",
    "    - This model was overfitting and could possibly be improved for even more precision, but its low false positive rate is a good sign.\n",
    "    - A lot of variables, as seen in logistic regression, had cancellation odds very close to 1. Maybe the model could be rebuilt with different features."
   ]
  },
  {
   "cell_type": "markdown",
   "id": "8b9760eb",
   "metadata": {
    "id": "virgin-polls"
   },
   "source": [
    "### Recommendations:\n",
    "\n",
    "- As mentioned previously, online customers who do not choose a meal plan are most likely to cancel. Number of weekend nights also seems to have a positive effect on driving up cancellations. \n",
    "- Incentivizing for offline bookings for clients who have the possibility (are near the area) could have a good efect on driving down cancellations.\n",
    "- The biggest factor in minimizing cancellations, by far, was customers having special requirements in their rooms. Maybe promoting these \"custom, special requirements\" to customers when they book (both offline and online) could really help. Because, if they do choose a custom requirement, this might incentivize them to not cancel (and as seen with the data, there actually is a relation between this 2 variables).\n",
    "- Because of avg cost per night, it seems that loyal customers already get special rewards, and they are less likely to cancel. Maybe a marketing strategy which lets new clients know that they will get special discounts and rewards for consecutive visits and not cancelling could drive the cancellation rate down (specially considering the fact that customers who have booked without cancelling previously are less likely to cancel)."
   ]
  },
  {
   "cell_type": "code",
   "execution_count": null,
   "id": "538731ef",
   "metadata": {},
   "outputs": [],
   "source": []
  }
 ],
 "metadata": {
  "colab": {
   "name": "Solution Notebook - Project_SLC_DSBA_StarHotels.ipynb",
   "provenance": []
  },
  "kernelspec": {
   "display_name": "gpu2",
   "language": "python",
   "name": "gpu2"
  },
  "language_info": {
   "codemirror_mode": {
    "name": "ipython",
    "version": 3
   },
   "file_extension": ".py",
   "mimetype": "text/x-python",
   "name": "python",
   "nbconvert_exporter": "python",
   "pygments_lexer": "ipython3",
   "version": "3.9.1"
  }
 },
 "nbformat": 4,
 "nbformat_minor": 5
}
